{
 "cells": [
  {
   "cell_type": "code",
   "execution_count": 37,
   "metadata": {},
   "outputs": [],
   "source": [
    "import numpy as np"
   ]
  },
  {
   "cell_type": "code",
   "execution_count": 45,
   "metadata": {},
   "outputs": [],
   "source": [
    "\n",
    "def filter(a, i):\n",
    "    \"\"\"Given an array a and an index i, replace each entry in the array with the average\n",
    "    of three adjacent cells, while filtering out values that are less than 0.05 or np.inf\"\"\"\n",
    "    x = np.take(a, [i, i-1, i+1], mode='wrap')\n",
    "    y = np.logical_and(x>0.05, x!=np.inf)\n",
    "    slice = x[y]\n",
    "    if slice.size == 0:\n",
    "        return 20\n",
    "    else:\n",
    "        return np.average(x[y])\n",
    "\n"
   ]
  },
  {
   "cell_type": "code",
   "execution_count": 80,
   "metadata": {},
   "outputs": [],
   "source": [
    "ap1 = np.array([1.21, 1.21, 1.21, 1.211, 1.212, 1.214, 1.21])\n",
    "ap2 = np.array([1.211, 1.212, 1.214, 1.21,  1.21, 1.21, 1.21 ])"
   ]
  },
  {
   "cell_type": "code",
   "execution_count": 81,
   "metadata": {},
   "outputs": [],
   "source": [
    "def play(ar):\n",
    "    filter_and_average = [filter(ar,x) for x in range(0, ar.size)]\n",
    "    print filter_and_average\n",
    "    near_bear = np.argmin(np.around(filter_and_average, decimals=2))\n",
    "    near_dist = filter_and_average[near_bear]\n",
    "    print(near_bear, near_dist)"
   ]
  },
  {
   "cell_type": "code",
   "execution_count": 82,
   "metadata": {},
   "outputs": [
    {
     "name": "stdout",
     "output_type": "stream",
     "text": [
      "[1.21, 1.21, 1.2103333333333335, 1.211, 1.2123333333333333, 1.212, 1.2113333333333334]\n",
      "(0, 1.21)\n"
     ]
    }
   ],
   "source": [
    "play(ap1)"
   ]
  },
  {
   "cell_type": "code",
   "execution_count": 83,
   "metadata": {},
   "outputs": [
    {
     "name": "stdout",
     "output_type": "stream",
     "text": [
      "[1.211, 1.2123333333333333, 1.212, 1.2113333333333334, 1.21, 1.21, 1.2103333333333335]\n",
      "(0, 1.211)\n"
     ]
    }
   ],
   "source": [
    "play(ap2)"
   ]
  },
  {
   "cell_type": "code",
   "execution_count": 20,
   "metadata": {},
   "outputs": [
    {
     "data": {
      "text/html": [
       "<div>\n",
       "<style scoped>\n",
       "    .dataframe tbody tr th:only-of-type {\n",
       "        vertical-align: middle;\n",
       "    }\n",
       "\n",
       "    .dataframe tbody tr th {\n",
       "        vertical-align: top;\n",
       "    }\n",
       "\n",
       "    .dataframe thead th {\n",
       "        text-align: right;\n",
       "    }\n",
       "</style>\n",
       "<table border=\"1\" class=\"dataframe\">\n",
       "  <thead>\n",
       "    <tr style=\"text-align: right;\">\n",
       "      <th></th>\n",
       "      <th>A</th>\n",
       "      <th>B</th>\n",
       "      <th>C</th>\n",
       "    </tr>\n",
       "  </thead>\n",
       "  <tbody>\n",
       "    <tr>\n",
       "      <th>0</th>\n",
       "      <td>5</td>\n",
       "      <td>6</td>\n",
       "      <td>3</td>\n",
       "    </tr>\n",
       "    <tr>\n",
       "      <th>0</th>\n",
       "      <td>5</td>\n",
       "      <td>6</td>\n",
       "      <td>3</td>\n",
       "    </tr>\n",
       "  </tbody>\n",
       "</table>\n",
       "</div>"
      ],
      "text/plain": [
       "   A  B  C\n",
       "0  5  6  3\n",
       "0  5  6  3"
      ]
     },
     "execution_count": 20,
     "metadata": {},
     "output_type": "execute_result"
    }
   ],
   "source": [
    "dt = pd.DataFrame()\n",
    "df2 = pd.DataFrame([[5, 6, 3]], columns=list('ABC'))\n",
    "dt = dt.append(df2)\n",
    "dt = dt.append(df2)\n",
    "dt\n"
   ]
  },
  {
   "cell_type": "code",
   "execution_count": 35,
   "metadata": {},
   "outputs": [],
   "source": [
    "import pandas as pd\n",
    "dt = pd.DataFrame()\n",
    "import matplotlib.pyplot as plt\n",
    "\n",
    "def angle_dif(actual, desired):\n",
    "    diff = actual - desired\n",
    "    if diff > 180:\n",
    "        diff = 360-diff\n",
    "    elif diff < -180:\n",
    "        diff = 360+diff\n",
    "    return diff\n",
    "\n",
    "\n",
    "for actual in range(0,360,15):\n",
    "    for desired in range(0, 360, 15):\n",
    "        new = pd.DataFrame([[actual, desired, angle_dif(actual, desired)]], columns=[\"act\", \"des\", \"diff\"])\n",
    "        dt = dt.append(new)\n"
   ]
  },
  {
   "cell_type": "code",
   "execution_count": 41,
   "metadata": {},
   "outputs": [
    {
     "ename": "TypeError",
     "evalue": "'Int64Index' object is not callable",
     "output_type": "error",
     "traceback": [
      "\u001b[0;31m---------------------------------------------------------------------------\u001b[0m",
      "\u001b[0;31mTypeError\u001b[0m                                 Traceback (most recent call last)",
      "\u001b[0;32m<ipython-input-41-de82f46bdcea>\u001b[0m in \u001b[0;36m<module>\u001b[0;34m\u001b[0m\n\u001b[0;32m----> 1\u001b[0;31m \u001b[0mdt\u001b[0m\u001b[0;34m.\u001b[0m\u001b[0mindex\u001b[0m\u001b[0;34m(\u001b[0m\u001b[0;34m)\u001b[0m\u001b[0;34m\u001b[0m\u001b[0;34m\u001b[0m\u001b[0m\n\u001b[0m",
      "\u001b[0;31mTypeError\u001b[0m: 'Int64Index' object is not callable"
     ]
    }
   ],
   "source": [
    "dt.index()"
   ]
  },
  {
   "cell_type": "code",
   "execution_count": 39,
   "metadata": {},
   "outputs": [
    {
     "data": {
      "text/plain": [
       "<AxesSubplot:>"
      ]
     },
     "execution_count": 39,
     "metadata": {},
     "output_type": "execute_result"
    },
    {
     "data": {
      "image/png": "[encoded data removed]",
      "text/plain": [
       "<Figure size 432x288 with 1 Axes>"
      ]
     },
     "metadata": {
      "needs_background": "light"
     },
     "output_type": "display_data"
    }
   ],
   "source": [
    "dt.plot(y=[\"act\"])"
   ]
  },
  {
   "cell_type": "code",
   "execution_count": null,
   "metadata": {},
   "outputs": [],
   "source": []
  }
 ],
 "metadata": {
  "kernelspec": {
   "display_name": "Python 3",
   "language": "python",
   "name": "python3"
  },
  "language_info": {
   "codemirror_mode": {
    "name": "ipython",
    "version": 3
   },
   "file_extension": ".py",
   "mimetype": "text/x-python",
   "name": "python",
   "nbconvert_exporter": "python",
   "pygments_lexer": "ipython3",
   "version": "3.8.5"
  }
 },
 "nbformat": 4,
 "nbformat_minor": 2
}
