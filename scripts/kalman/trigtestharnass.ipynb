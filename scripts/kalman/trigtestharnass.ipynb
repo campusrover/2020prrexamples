{
 "cells": [
  {
   "cell_type": "code",
   "execution_count": 1,
   "metadata": {},
   "outputs": [],
   "source": [
    "from __future__ import division, print_function\n",
    "from math import sin, cos, pi, sqrt, acos, asin, radians, isclose, degrees\n",
    "import prrkalman as k"
   ]
  },
  {
   "cell_type": "code",
   "execution_count": 2,
   "metadata": {},
   "outputs": [],
   "source": [
    "def show_triangle(a, B, c, b, A):\n",
    "    print(f\"a,B,c {a:.2f}, {degrees(B):.2f} {c:.2f} => A,b {degrees(A):.2f} {b:.2f} \")"
   ]
  },
  {
   "cell_type": "code",
   "execution_count": 3,
   "metadata": {},
   "outputs": [],
   "source": [
    "def test_1():\n",
    "    a = 1\n",
    "    c = 1\n",
    "    for B_index in range(0, 37):\n",
    "        B = radians(B_index * 10)\n",
    "        (b,  A) = k.kalman_predict(a, B, c)\n",
    "        show_triangle(a, B, c, b, A)"
   ]
  },
  {
   "cell_type": "code",
   "execution_count": 4,
   "metadata": {},
   "outputs": [],
   "source": [
    "def test_2():\n",
    "    a = 1\n",
    "    B = radians(360-46)\n",
    "    for c in range(-5, 5):\n",
    "        (b,  A) = k.kalman_predict(a, B, c)\n",
    "        show_triangle(a, B, c, b, A)"
   ]
  },
  {
   "cell_type": "code",
   "execution_count": 5,
   "metadata": {},
   "outputs": [
    {
     "name": "stdout",
     "output_type": "stream",
     "text": [
      "m1: (a, B, c) (1, 5.480333851262195, -5)\n",
      "a,B,c 1.00, 314.00 -5.00 => A,b 352.80 1.00 \n",
      "m1: (a, B, c) (1, 5.480333851262195, -4)\n",
      "a,B,c 1.00, 314.00 -4.00 => A,b 351.29 1.00 \n",
      "m1: (a, B, c) (1, 5.480333851262195, -3)\n",
      "a,B,c 1.00, 314.00 -3.00 => A,b 348.98 1.00 \n",
      "m1: (a, B, c) (1, 5.480333851262195, -2)\n",
      "a,B,c 1.00, 314.00 -2.00 => A,b 345.05 1.00 \n",
      "m1: (a, B, c) (1, 5.480333851262195, -1)\n",
      "a,B,c 1.00, 314.00 -1.00 => A,b 337.00 1.00 \n",
      "m1: (a, B, c) (1, 5.480333851262195, 0)\n",
      "a,B,c 1.00, 314.00 0.00 => A,b 314.00 1.00 \n",
      "m1: (a, B, c) (1, 5.480333851262195, 1)\n",
      "a,B,c 1.00, 314.00 1.00 => A,b 247.00 0.78 \n",
      "m1: (a, B, c) (1, 5.480333851262195, 2)\n",
      "a,B,c 1.00, 314.00 2.00 => A,b 208.86 1.49 \n",
      "m1: (a, B, c) (1, 5.480333851262195, 3)\n",
      "a,B,c 1.00, 314.00 3.00 => A,b 197.33 2.41 \n",
      "m1: (a, B, c) (1, 5.480333851262195, 4)\n",
      "a,B,c 1.00, 314.00 4.00 => A,b 192.28 3.38 \n"
     ]
    }
   ],
   "source": [
    "if __name__ == \"__main__\":\n",
    "    \"\"\" alll these examples use standard A,B,C, a,b,c notation \"\"\"\n",
    "    test_2()"
   ]
  },
  {
   "cell_type": "code",
   "execution_count": null,
   "metadata": {},
   "outputs": [],
   "source": []
  },
  {
   "cell_type": "code",
   "execution_count": null,
   "metadata": {},
   "outputs": [],
   "source": []
  }
 ],
 "metadata": {
  "kernelspec": {
   "display_name": "Python 3",
   "language": "python",
   "name": "python3"
  },
  "language_info": {
   "codemirror_mode": {
    "name": "ipython",
    "version": 3
   },
   "file_extension": ".py",
   "mimetype": "text/x-python",
   "name": "python",
   "nbconvert_exporter": "python",
   "pygments_lexer": "ipython3",
   "version": "3.7.6"
  }
 },
 "nbformat": 4,
 "nbformat_minor": 4
}
