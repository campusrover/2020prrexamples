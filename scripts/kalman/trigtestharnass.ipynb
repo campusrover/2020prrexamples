{
 "cells": [
  {
   "cell_type": "code",
   "execution_count": 1,
   "metadata": {},
   "outputs": [],
   "source": [
    "from __future__ import division, print_function\n",
    "from math import sin, cos, pi, sqrt, acos, asin, radians, isclose, degrees\n",
    "import kalman as k"
   ]
  },
  {
   "cell_type": "code",
   "execution_count": 2,
   "metadata": {},
   "outputs": [],
   "source": [
    "def tuple_isclose(x,y):\n",
    "    return all(isclose(x[i], y[i]) for i in range(len(x)))\n",
    "\n",
    "def test_triangle(a,b,c,A,B,C):\n",
    "    \"\"\" Check that the triangle satisfies the law of cosines and law of\n",
    "    sines\"\"\"\n",
    "    assert isclose(a/sin(A), b/sin(B))\n",
    "    assert isclose(a/sin(A), c/sin(C))\n",
    "    assert isclose(c**2, a**2 + b**2 - 2 * a * b * cos(C))\n",
    "    assert isclose(a**2, b**2 + c**2 - 2 * b * c * cos(A))\n",
    "    assert isclose(b**2, c**2 + a**2 - 2 * c * a * cos(B))"
   ]
  },
  {
   "cell_type": "code",
   "execution_count": 3,
   "metadata": {},
   "outputs": [],
   "source": [
    "def show_triangle(a, B, c, b, A):\n",
    "    print(f\"a,B,c {a:.2f}, {degrees(B):.2f} {c:.2f} => A,b {degrees(A):.2f} {b:.2f} \")"
   ]
  },
  {
   "cell_type": "code",
   "execution_count": 4,
   "metadata": {},
   "outputs": [],
   "source": [
    "def test_1():\n",
    "    a = 1\n",
    "    c = 1\n",
    "    for B_index in range(0, 37):\n",
    "        B = radians(B_index * 10)\n",
    "        (b,  A) = k.kalman_predict(a, B, c)\n",
    "        show_triangle(a, B, c, b, A)"
   ]
  },
  {
   "cell_type": "code",
   "execution_count": 5,
   "metadata": {},
   "outputs": [],
   "source": [
    "def test_2():\n",
    "    a = 1\n",
    "    B = radians(45)\n",
    "    for c in range(-5, 5):\n",
    "        (b,  A) = k.kalman_predict(a, B, c)\n",
    "        show_triangle(a, B, c, b, A)"
   ]
  },
  {
   "cell_type": "code",
   "execution_count": 6,
   "metadata": {},
   "outputs": [
    {
     "name": "stdout",
     "output_type": "stream",
     "text": [
      "E0 a,c,B 1 -5 0.7853981633974483\n",
      "a,B,c 1.00, 45.00 -5.00 => A,b 7.06 1.00 \n",
      "E0 a,c,B 1 -4 0.7853981633974483\n",
      "a,B,c 1.00, 45.00 -4.00 => A,b 8.54 1.00 \n",
      "E0 a,c,B 1 -3 0.7853981633974483\n",
      "a,B,c 1.00, 45.00 -3.00 => A,b 10.80 1.00 \n",
      "E0 a,c,B 1 -2 0.7853981633974483\n",
      "a,B,c 1.00, 45.00 -2.00 => A,b 14.64 1.00 \n",
      "E0 a,c,B 1 -1 0.7853981633974483\n",
      "a,B,c 1.00, 45.00 -1.00 => A,b 22.50 1.00 \n",
      "a,B,c 1.00, 45.00 0.00 => A,b 45.00 1.00 \n",
      "a,B,c 1.00, 45.00 1.00 => A,b 67.50 0.77 \n",
      "a,B,c 1.00, 45.00 2.00 => A,b 28.68 1.47 \n",
      "a,B,c 1.00, 45.00 3.00 => A,b 17.14 2.40 \n",
      "a,B,c 1.00, 45.00 4.00 => A,b 12.12 3.37 \n"
     ]
    }
   ],
   "source": [
    "if __name__ == \"__main__\":\n",
    "    \"\"\" alll these examples use standard A,B,C, a,b,c notation \"\"\"\n",
    "    test_2()"
   ]
  },
  {
   "cell_type": "code",
   "execution_count": null,
   "metadata": {},
   "outputs": [],
   "source": []
  },
  {
   "cell_type": "code",
   "execution_count": null,
   "metadata": {},
   "outputs": [],
   "source": []
  }
 ],
 "metadata": {
  "kernelspec": {
   "display_name": "Python 3",
   "language": "python",
   "name": "python3"
  },
  "language_info": {
   "codemirror_mode": {
    "name": "ipython",
    "version": 3
   },
   "file_extension": ".py",
   "mimetype": "text/x-python",
   "name": "python",
   "nbconvert_exporter": "python",
   "pygments_lexer": "ipython3",
   "version": "3.7.6"
  }
 },
 "nbformat": 4,
 "nbformat_minor": 4
}
