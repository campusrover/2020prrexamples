{
 "cells": [
  {
   "cell_type": "code",
   "execution_count": 3,
   "metadata": {},
   "outputs": [],
   "source": [
    "from __future__ import division, print_function\n",
    "from math import sin, cos, pi, sqrt, acos, asin, radians, isclose, degrees\n",
    "import kalman as k"
   ]
  },
  {
   "cell_type": "code",
   "execution_count": 4,
   "metadata": {},
   "outputs": [],
   "source": [
    "def tuple_isclose(x,y):\n",
    "    return all(isclose(x[i], y[i]) for i in range(len(x)))\n",
    "\n",
    "def test_triangle(a,b,c,A,B,C):\n",
    "    \"\"\" Check that the triangle satisfies the law of cosines and law of\n",
    "    sines\"\"\"\n",
    "    assert isclose(a/sin(A), b/sin(B))\n",
    "    assert isclose(a/sin(A), c/sin(C))\n",
    "    assert isclose(c**2, a**2 + b**2 - 2 * a * b * cos(C))\n",
    "    assert isclose(a**2, b**2 + c**2 - 2 * b * c * cos(A))\n",
    "    assert isclose(b**2, c**2 + a**2 - 2 * c * a * cos(B))"
   ]
  },
  {
   "cell_type": "code",
   "execution_count": 5,
   "metadata": {},
   "outputs": [],
   "source": [
    "def show_triangle(a, B, c, b, A):\n",
    "    print(f\"a,B,c {a:.2f}, {degrees(B):.2f} {c:.2f} => A,b {degrees(A):.2f} {b:.2f} \")"
   ]
  },
  {
   "cell_type": "code",
   "execution_count": 6,
   "metadata": {},
   "outputs": [],
   "source": [
    "def test_1():\n",
    "    a = 1\n",
    "    c = 1\n",
    "    for B_index in range(0, 37):\n",
    "        B = radians(B_index * 10)\n",
    "        (b,  A) = k.kalman_predict(a, B, c)\n",
    "        show_triangle(a, B, c, b, A)"
   ]
  },
  {
   "cell_type": "code",
   "execution_count": null,
   "metadata": {},
   "outputs": [],
   "source": [
    "def test_2():\n",
    "    a = 1\n",
    "    B = radians(45)\n",
    "    for c_index in range(-5, 5):\n",
    "        (b,  A) = k.kalman_predict(a, B, c)\n",
    "        show_triangle(a, B, c, b, A)"
   ]
  },
  {
   "cell_type": "code",
   "execution_count": 7,
   "metadata": {},
   "outputs": [
    {
     "name": "stdout",
     "output_type": "stream",
     "text": [
      "e1 B==0: 1 0.0 1\n",
      "a,B,c 1.00, 0.00 1.00 => A,b 180.00 0.00 \n",
      "a,B,c 1.00, 10.00 1.00 => A,b 85.00 0.17 \n",
      "a,B,c 1.00, 20.00 1.00 => A,b 80.00 0.35 \n",
      "a,B,c 1.00, 30.00 1.00 => A,b 75.00 0.52 \n",
      "a,B,c 1.00, 40.00 1.00 => A,b 70.00 0.68 \n",
      "a,B,c 1.00, 50.00 1.00 => A,b 65.00 0.85 \n",
      "a,B,c 1.00, 60.00 1.00 => A,b 60.00 1.00 \n",
      "a,B,c 1.00, 70.00 1.00 => A,b 55.00 1.15 \n",
      "a,B,c 1.00, 80.00 1.00 => A,b 50.00 1.29 \n",
      "a,B,c 1.00, 90.00 1.00 => A,b 45.00 1.41 \n",
      "a,B,c 1.00, 100.00 1.00 => A,b 40.00 1.53 \n",
      "a,B,c 1.00, 110.00 1.00 => A,b 35.00 1.64 \n",
      "a,B,c 1.00, 120.00 1.00 => A,b 30.00 1.73 \n",
      "a,B,c 1.00, 130.00 1.00 => A,b 25.00 1.81 \n",
      "a,B,c 1.00, 140.00 1.00 => A,b 20.00 1.88 \n",
      "a,B,c 1.00, 150.00 1.00 => A,b 15.00 1.93 \n",
      "a,B,c 1.00, 160.00 1.00 => A,b 10.00 1.97 \n",
      "a,B,c 1.00, 170.00 1.00 => A,b 5.00 1.99 \n",
      "a,B,c 1.00, 180.00 1.00 => A,b 180.00 1.00 \n",
      "a,B,c 1.00, 190.00 1.00 => A,b 355.00 1.99 \n",
      "a,B,c 1.00, 200.00 1.00 => A,b 350.00 1.97 \n",
      "a,B,c 1.00, 210.00 1.00 => A,b 345.00 1.93 \n",
      "a,B,c 1.00, 220.00 1.00 => A,b 340.00 1.88 \n",
      "a,B,c 1.00, 230.00 1.00 => A,b 335.00 1.81 \n",
      "a,B,c 1.00, 240.00 1.00 => A,b 330.00 1.73 \n",
      "a,B,c 1.00, 250.00 1.00 => A,b 325.00 1.64 \n",
      "a,B,c 1.00, 260.00 1.00 => A,b 320.00 1.53 \n",
      "a,B,c 1.00, 270.00 1.00 => A,b 315.00 1.41 \n",
      "a,B,c 1.00, 280.00 1.00 => A,b 310.00 1.29 \n",
      "a,B,c 1.00, 290.00 1.00 => A,b 305.00 1.15 \n",
      "a,B,c 1.00, 300.00 1.00 => A,b 300.00 1.00 \n",
      "a,B,c 1.00, 310.00 1.00 => A,b 295.00 0.85 \n",
      "a,B,c 1.00, 320.00 1.00 => A,b 290.00 0.68 \n",
      "a,B,c 1.00, 330.00 1.00 => A,b 285.00 0.52 \n",
      "a,B,c 1.00, 340.00 1.00 => A,b 280.00 0.35 \n",
      "a,B,c 1.00, 350.00 1.00 => A,b 275.00 0.17 \n",
      "e2 B==2pi: 1 6.283185307179586 1\n",
      "a,B,c 1.00, 360.00 1.00 => A,b 270.00 0.00 \n"
     ]
    }
   ],
   "source": [
    "if __name__ == \"__main__\":\n",
    "    \"\"\" alll these examples use standard A,B,C, a,b,c notation \"\"\"\n",
    "    test_1()"
   ]
  },
  {
   "cell_type": "code",
   "execution_count": null,
   "metadata": {},
   "outputs": [],
   "source": []
  },
  {
   "cell_type": "code",
   "execution_count": null,
   "metadata": {},
   "outputs": [],
   "source": []
  }
 ],
 "metadata": {
  "kernelspec": {
   "display_name": "Python 3",
   "language": "python",
   "name": "python3"
  },
  "language_info": {
   "codemirror_mode": {
    "name": "ipython",
    "version": 3
   },
   "file_extension": ".py",
   "mimetype": "text/x-python",
   "name": "python",
   "nbconvert_exporter": "python",
   "pygments_lexer": "ipython3",
   "version": "3.7.6"
  }
 },
 "nbformat": 4,
 "nbformat_minor": 4
}
