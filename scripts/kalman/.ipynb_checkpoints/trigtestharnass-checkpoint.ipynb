{
 "cells": [
  {
   "cell_type": "code",
   "execution_count": 1,
   "metadata": {},
   "outputs": [],
   "source": [
    "from __future__ import division, print_function\n",
    "from math import sin, cos, pi, sqrt, acos, asin, radians, isclose, degrees\n",
    "import prrkalman as k"
   ]
  },
  {
   "cell_type": "code",
   "execution_count": 2,
   "metadata": {},
   "outputs": [],
   "source": [
    "def show_triangle(a, B, c, b, A):\n",
    "    print(f\"a,B,c {a:.2f}, {degrees(B):.2f} {c:.2f} => A,b {degrees(A):.2f} {b:.2f} \")"
   ]
  },
  {
   "cell_type": "code",
   "execution_count": 3,
   "metadata": {},
   "outputs": [],
   "source": [
    "def test_1():\n",
    "    a = 1\n",
    "    c = 1\n",
    "    for B_index in range(0, 37):\n",
    "        B = radians(B_index * 10)\n",
    "        (b,  A) = k.kalman_predict(a, B, c)\n",
    "        show_triangle(a, B, c, b, A)"
   ]
  },
  {
   "cell_type": "code",
   "execution_count": 7,
   "metadata": {},
   "outputs": [],
   "source": [
    "def test_2():\n",
    "    a = 1\n",
    "    B = radians(360-46)\n",
    "    for c in range(0, 2):\n",
    "        (b,  A) = k.kalman_predict(a, B, c)\n",
    "        show_triangle(a, B, c, b, A)"
   ]
  },
  {
   "cell_type": "code",
   "execution_count": 8,
   "metadata": {},
   "outputs": [
    {
     "name": "stdout",
     "output_type": "stream",
     "text": [
      "0\n",
      "m1: a, B, c 1 5.480333851262195 0\n",
      "E0: c == 0\n",
      "a,B,c 1.00, 314.00 0.00 => A,b 46.00 1.00 \n",
      "1\n",
      "m1: a, B, c 1 5.480333851262195 1\n",
      "OK before a, B, c => tsb, tsA 1 0.8028514559173914 1 0.7814622569785473 1.1693705988362009\n",
      "OK after a, B, c => tsb, tsA 1 0.8028514559173914 1 0.7814622569785473 1.9722220547535922\n",
      "a,B,c 1.00, 314.00 1.00 => A,b 113.00 0.78 \n"
     ]
    }
   ],
   "source": [
    "if __name__ == \"__main__\":\n",
    "    \"\"\" alll these examples use standard A,B,C, a,b,c notation \"\"\"\n",
    "    test_2()"
   ]
  },
  {
   "cell_type": "code",
   "execution_count": null,
   "metadata": {},
   "outputs": [],
   "source": []
  },
  {
   "cell_type": "code",
   "execution_count": null,
   "metadata": {},
   "outputs": [],
   "source": []
  }
 ],
 "metadata": {
  "kernelspec": {
   "display_name": "Python 3",
   "language": "python",
   "name": "python3"
  },
  "language_info": {
   "codemirror_mode": {
    "name": "ipython",
    "version": 3
   },
   "file_extension": ".py",
   "mimetype": "text/x-python",
   "name": "python",
   "nbconvert_exporter": "python",
   "pygments_lexer": "ipython3",
   "version": "3.7.6"
  }
 },
 "nbformat": 4,
 "nbformat_minor": 4
}
