{
 "cells": [
  {
   "cell_type": "code",
   "execution_count": 3,
   "metadata": {},
   "outputs": [],
   "source": [
    "import csv\n",
    "import numpy as np\n",
    "import pandas as pd\n",
    "import math"
   ]
  },
  {
   "cell_type": "code",
   "execution_count": 4,
   "metadata": {},
   "outputs": [],
   "source": [
    "# d = previous state distance to target\n",
    "# b = previous state bearing to target\n",
    "# d_meas = new measurement of distance to target\n",
    "# b_meas = new measurement of bearing to target\n",
    "\n",
    "def kalman_update(d, b, d_meas, d_bear):\n",
    "    K = 0.5\n",
    "    d_prime = K * d + (1-K) * d_meas\n",
    "    b_prime = K * b + (1-K) * d_bear\n",
    "    return (d_prime, b_prime)"
   ]
  },
  {
   "cell_type": "code",
   "execution_count": 5,
   "metadata": {},
   "outputs": [],
   "source": [
    "# d = previous state distance to target\n",
    "# b = previous state bearing to target\n",
    "# m = amount moved forward\n",
    "\n",
    "def kalman_predict2(d, b, m):\n",
    "    d_prime = law_of_cosines_b(d, m, b)\n",
    "    b_prime = math.pi - law_of_cosines_A(d, d_prime, m)\n",
    "    return d_prime, b_prime"
   ]
  },
  {
   "cell_type": "code",
   "execution_count": null,
   "metadata": {},
   "outputs": [],
   "source": [
    "# d = previous state distance to target\n",
    "# b = previous state bearing to target\n",
    "# m = amount moved forward\n",
    "\n",
    "def kalman_predict(d, b, m):\n",
    "    d_prime = law_of_cosines_b(d, m, b)\n",
    "    b_prime = math.pi - law_of_cosines_A(d, d_prime, m)\n",
    "    return d_prime, b_prime"
   ]
  },
  {
   "cell_type": "code",
   "execution_count": 6,
   "metadata": {},
   "outputs": [],
   "source": [
    "# Capital letter B is an angle. Small a, b and c are edges. \n",
    "# a is the edge across from A (I think that covers it.)\n",
    "def law_of_cosines_B(a, b, c):\n",
    "    return math.acos((b**2 - a**2 - c**2)/(-2.0 * a * c))"
   ]
  },
  {
   "cell_type": "code",
   "execution_count": 7,
   "metadata": {},
   "outputs": [],
   "source": [
    "# Capital letter B is an angle. Small a, b and c are edges. \n",
    "# a is the edge across from A (I think that covers it.)\n",
    "def law_of_cosines_b(a, c, B):\n",
    "    return(math.sqrt(a**2 + c**2 - 2*a*c*math.cos(B)))"
   ]
  },
  {
   "cell_type": "code",
   "execution_count": 41,
   "metadata": {},
   "outputs": [],
   "source": [
    "# Capital letter A is an angle. Small a, b and c are edges. \n",
    "# a is the edge across from A (I think that covers it.)\n",
    "def law_of_cosines_A(a, b, c):\n",
    "    if c == 0:\n",
    "        c = 0.01\n",
    "    if b == 0:\n",
    "        b = 0.01\n",
    "    return math.acos((-(a*a) + b*b + c*c) / (2 * b * c))"
   ]
  },
  {
   "cell_type": "code",
   "execution_count": 43,
   "metadata": {},
   "outputs": [
    {
     "name": "stdout",
     "output_type": "stream",
     "text": [
      "0.9999999453972673\n",
      "20671.490814409215\n"
     ]
    },
    {
     "data": {
      "text/plain": [
       "(101.33084285847629, 3.141262191086124)"
      ]
     },
     "execution_count": 43,
     "metadata": {},
     "output_type": "execute_result"
    }
   ],
   "source": [
    "kalman_predict(0.67, 0.05, 102)"
   ]
  },
  {
   "cell_type": "code",
   "execution_count": 9,
   "metadata": {},
   "outputs": [],
   "source": [
    "# elapsed,g_forward_cmd,g_turn_cmd,g_shortest_bearing,g_shortest\n",
    "df=pd.read_csv('moving.csv', sep=',')"
   ]
  },
  {
   "cell_type": "code",
   "execution_count": 10,
   "metadata": {},
   "outputs": [],
   "source": [
    "state_dist = 1\n",
    "state_bear = math.radians(45)\n",
    "for index, row in df.iterrows():\n",
    "    meas_dist = row['g_shortest']\n",
    "    meas_bear = math.radians(row['g_shortest_bearing'])\n",
    "    control_motion = row['g_forward_cmd'] * row['elapsed']\n",
    "    temp_state_dist, temp_state_bear = kalman_predict(state_dist, state_bear, control_motion)\n",
    "    pure_state_dist, pure_state_bear = kalman_predict(meas_dist, meas_bear, control_motion)\n",
    "    state_dist, state_bear = kalman_update(temp_state_dist, temp_state_bear, meas_dist, meas_bear)\n",
    "    df.loc[df.index[index], 'm'] = control_motion    \n",
    "    df.loc[df.index[index], 'meas_dist'] = meas_dist\n",
    "    df.loc[df.index[index], 'pure_state_dist'] = pure_state_dist    \n",
    "    df.loc[df.index[index], 'temp_state_dist'] = temp_state_dist\n",
    "    df.loc[df.index[index], 'state_dist'] = state_dist\n",
    "    df.loc[df.index[index], 'meas_bear'] = math.degrees(meas_bear)\n",
    "    df.loc[df.index[index], 'pure_state_bear'] = math.degrees(pure_state_bear)\n",
    "    df.loc[df.index[index], 'state_bear'] = math.degrees(state_bear)\n",
    "    df.loc[df.index[index], 'temp_state_bear'] = math.degrees(temp_state_bear)"
   ]
  },
  {
   "cell_type": "code",
   "execution_count": 11,
   "metadata": {},
   "outputs": [
    {
     "name": "stdout",
     "output_type": "stream",
     "text": [
      "90.42631181682933\n"
     ]
    }
   ],
   "source": [
    "# def kalman_predict(d, b, m):\n",
    "d, b = kalman_predict(0.672, math.radians(45), 0)\n",
    "print(math.degrees(b))"
   ]
  },
  {
   "cell_type": "code",
   "execution_count": 154,
   "metadata": {},
   "outputs": [
    {
     "data": {
      "text/html": [
       "<div>\n",
       "<style scoped>\n",
       "    .dataframe tbody tr th:only-of-type {\n",
       "        vertical-align: middle;\n",
       "    }\n",
       "\n",
       "    .dataframe tbody tr th {\n",
       "        vertical-align: top;\n",
       "    }\n",
       "\n",
       "    .dataframe thead th {\n",
       "        text-align: right;\n",
       "    }\n",
       "</style>\n",
       "<table border=\"1\" class=\"dataframe\">\n",
       "  <thead>\n",
       "    <tr style=\"text-align: right;\">\n",
       "      <th></th>\n",
       "      <th>elapsed</th>\n",
       "      <th>g_forward_cmd</th>\n",
       "      <th>g_turn_cmd</th>\n",
       "      <th>g_shortest_bearing</th>\n",
       "      <th>g_shortest</th>\n",
       "      <th>m</th>\n",
       "      <th>meas_dist</th>\n",
       "      <th>pure_state_dist</th>\n",
       "      <th>temp_state_dist</th>\n",
       "      <th>state_dist</th>\n",
       "      <th>meas_bear</th>\n",
       "      <th>pure_state_bear</th>\n",
       "      <th>state_bear</th>\n",
       "      <th>temp_state_bear</th>\n",
       "    </tr>\n",
       "  </thead>\n",
       "  <tbody>\n",
       "    <tr>\n",
       "      <th>0</th>\n",
       "      <td>0.000</td>\n",
       "      <td>0.00</td>\n",
       "      <td>0.0</td>\n",
       "      <td>258.0</td>\n",
       "      <td>0.672</td>\n",
       "      <td>0.00000</td>\n",
       "      <td>0.672</td>\n",
       "      <td>0.672000</td>\n",
       "      <td>1.000000</td>\n",
       "      <td>0.901600</td>\n",
       "      <td>258.0</td>\n",
       "      <td>90.426312</td>\n",
       "      <td>140.600536</td>\n",
       "      <td>90.286480</td>\n",
       "    </tr>\n",
       "    <tr>\n",
       "      <th>1</th>\n",
       "      <td>0.200</td>\n",
       "      <td>0.00</td>\n",
       "      <td>0.0</td>\n",
       "      <td>258.0</td>\n",
       "      <td>0.674</td>\n",
       "      <td>0.00000</td>\n",
       "      <td>0.674</td>\n",
       "      <td>0.674000</td>\n",
       "      <td>0.901600</td>\n",
       "      <td>0.833320</td>\n",
       "      <td>258.0</td>\n",
       "      <td>90.425047</td>\n",
       "      <td>140.622423</td>\n",
       "      <td>90.317747</td>\n",
       "    </tr>\n",
       "    <tr>\n",
       "      <th>2</th>\n",
       "      <td>0.200</td>\n",
       "      <td>0.00</td>\n",
       "      <td>0.0</td>\n",
       "      <td>268.0</td>\n",
       "      <td>0.679</td>\n",
       "      <td>0.00000</td>\n",
       "      <td>0.679</td>\n",
       "      <td>0.679000</td>\n",
       "      <td>0.833320</td>\n",
       "      <td>0.787024</td>\n",
       "      <td>268.0</td>\n",
       "      <td>90.421917</td>\n",
       "      <td>143.640648</td>\n",
       "      <td>90.343782</td>\n",
       "    </tr>\n",
       "    <tr>\n",
       "      <th>3</th>\n",
       "      <td>0.202</td>\n",
       "      <td>0.00</td>\n",
       "      <td>0.0</td>\n",
       "      <td>257.0</td>\n",
       "      <td>0.677</td>\n",
       "      <td>0.00000</td>\n",
       "      <td>0.677</td>\n",
       "      <td>0.677000</td>\n",
       "      <td>0.787024</td>\n",
       "      <td>0.754017</td>\n",
       "      <td>257.0</td>\n",
       "      <td>90.423163</td>\n",
       "      <td>140.354804</td>\n",
       "      <td>90.364005</td>\n",
       "    </tr>\n",
       "    <tr>\n",
       "      <th>4</th>\n",
       "      <td>0.198</td>\n",
       "      <td>0.00</td>\n",
       "      <td>0.0</td>\n",
       "      <td>259.0</td>\n",
       "      <td>0.672</td>\n",
       "      <td>0.00000</td>\n",
       "      <td>0.672</td>\n",
       "      <td>0.672000</td>\n",
       "      <td>0.754017</td>\n",
       "      <td>0.729412</td>\n",
       "      <td>259.0</td>\n",
       "      <td>90.426312</td>\n",
       "      <td>140.965958</td>\n",
       "      <td>90.379940</td>\n",
       "    </tr>\n",
       "    <tr>\n",
       "      <th>...</th>\n",
       "      <td>...</td>\n",
       "      <td>...</td>\n",
       "      <td>...</td>\n",
       "      <td>...</td>\n",
       "      <td>...</td>\n",
       "      <td>...</td>\n",
       "      <td>...</td>\n",
       "      <td>...</td>\n",
       "      <td>...</td>\n",
       "      <td>...</td>\n",
       "      <td>...</td>\n",
       "      <td>...</td>\n",
       "      <td>...</td>\n",
       "      <td>...</td>\n",
       "    </tr>\n",
       "    <tr>\n",
       "      <th>73</th>\n",
       "      <td>0.202</td>\n",
       "      <td>0.22</td>\n",
       "      <td>0.0</td>\n",
       "      <td>220.0</td>\n",
       "      <td>1.213</td>\n",
       "      <td>0.04444</td>\n",
       "      <td>1.213</td>\n",
       "      <td>1.247370</td>\n",
       "      <td>1.263243</td>\n",
       "      <td>1.248170</td>\n",
       "      <td>220.0</td>\n",
       "      <td>141.312220</td>\n",
       "      <td>186.906833</td>\n",
       "      <td>172.724047</td>\n",
       "    </tr>\n",
       "    <tr>\n",
       "      <th>74</th>\n",
       "      <td>0.197</td>\n",
       "      <td>0.22</td>\n",
       "      <td>0.0</td>\n",
       "      <td>218.0</td>\n",
       "      <td>1.257</td>\n",
       "      <td>0.04334</td>\n",
       "      <td>1.257</td>\n",
       "      <td>1.291428</td>\n",
       "      <td>1.291206</td>\n",
       "      <td>1.280944</td>\n",
       "      <td>218.0</td>\n",
       "      <td>143.183898</td>\n",
       "      <td>186.727107</td>\n",
       "      <td>173.324438</td>\n",
       "    </tr>\n",
       "    <tr>\n",
       "      <th>75</th>\n",
       "      <td>0.208</td>\n",
       "      <td>0.22</td>\n",
       "      <td>0.0</td>\n",
       "      <td>217.0</td>\n",
       "      <td>1.284</td>\n",
       "      <td>0.04576</td>\n",
       "      <td>1.284</td>\n",
       "      <td>1.320833</td>\n",
       "      <td>1.326400</td>\n",
       "      <td>1.313680</td>\n",
       "      <td>217.0</td>\n",
       "      <td>144.194690</td>\n",
       "      <td>186.553110</td>\n",
       "      <td>173.504442</td>\n",
       "    </tr>\n",
       "    <tr>\n",
       "      <th>76</th>\n",
       "      <td>0.192</td>\n",
       "      <td>0.22</td>\n",
       "      <td>0.0</td>\n",
       "      <td>217.0</td>\n",
       "      <td>1.333</td>\n",
       "      <td>0.04224</td>\n",
       "      <td>1.333</td>\n",
       "      <td>1.366971</td>\n",
       "      <td>1.355653</td>\n",
       "      <td>1.348857</td>\n",
       "      <td>217.0</td>\n",
       "      <td>144.065554</td>\n",
       "      <td>186.655441</td>\n",
       "      <td>173.650631</td>\n",
       "    </tr>\n",
       "    <tr>\n",
       "      <th>77</th>\n",
       "      <td>0.200</td>\n",
       "      <td>0.22</td>\n",
       "      <td>0.0</td>\n",
       "      <td>215.0</td>\n",
       "      <td>1.359</td>\n",
       "      <td>0.04400</td>\n",
       "      <td>1.359</td>\n",
       "      <td>1.395271</td>\n",
       "      <td>1.392570</td>\n",
       "      <td>1.382499</td>\n",
       "      <td>215.0</td>\n",
       "      <td>146.036410</td>\n",
       "      <td>185.988062</td>\n",
       "      <td>173.554374</td>\n",
       "    </tr>\n",
       "  </tbody>\n",
       "</table>\n",
       "<p>78 rows × 14 columns</p>\n",
       "</div>"
      ],
      "text/plain": [
       "    elapsed  g_forward_cmd  g_turn_cmd  g_shortest_bearing  g_shortest  \\\n",
       "0     0.000           0.00         0.0               258.0       0.672   \n",
       "1     0.200           0.00         0.0               258.0       0.674   \n",
       "2     0.200           0.00         0.0               268.0       0.679   \n",
       "3     0.202           0.00         0.0               257.0       0.677   \n",
       "4     0.198           0.00         0.0               259.0       0.672   \n",
       "..      ...            ...         ...                 ...         ...   \n",
       "73    0.202           0.22         0.0               220.0       1.213   \n",
       "74    0.197           0.22         0.0               218.0       1.257   \n",
       "75    0.208           0.22         0.0               217.0       1.284   \n",
       "76    0.192           0.22         0.0               217.0       1.333   \n",
       "77    0.200           0.22         0.0               215.0       1.359   \n",
       "\n",
       "          m  meas_dist  pure_state_dist  temp_state_dist  state_dist  \\\n",
       "0   0.00000      0.672         0.672000         1.000000    0.901600   \n",
       "1   0.00000      0.674         0.674000         0.901600    0.833320   \n",
       "2   0.00000      0.679         0.679000         0.833320    0.787024   \n",
       "3   0.00000      0.677         0.677000         0.787024    0.754017   \n",
       "4   0.00000      0.672         0.672000         0.754017    0.729412   \n",
       "..      ...        ...              ...              ...         ...   \n",
       "73  0.04444      1.213         1.247370         1.263243    1.248170   \n",
       "74  0.04334      1.257         1.291428         1.291206    1.280944   \n",
       "75  0.04576      1.284         1.320833         1.326400    1.313680   \n",
       "76  0.04224      1.333         1.366971         1.355653    1.348857   \n",
       "77  0.04400      1.359         1.395271         1.392570    1.382499   \n",
       "\n",
       "    meas_bear  pure_state_bear  state_bear  temp_state_bear  \n",
       "0       258.0        90.426312  140.600536        90.286480  \n",
       "1       258.0        90.425047  140.622423        90.317747  \n",
       "2       268.0        90.421917  143.640648        90.343782  \n",
       "3       257.0        90.423163  140.354804        90.364005  \n",
       "4       259.0        90.426312  140.965958        90.379940  \n",
       "..        ...              ...         ...              ...  \n",
       "73      220.0       141.312220  186.906833       172.724047  \n",
       "74      218.0       143.183898  186.727107       173.324438  \n",
       "75      217.0       144.194690  186.553110       173.504442  \n",
       "76      217.0       144.065554  186.655441       173.650631  \n",
       "77      215.0       146.036410  185.988062       173.554374  \n",
       "\n",
       "[78 rows x 14 columns]"
      ]
     },
     "execution_count": 154,
     "metadata": {},
     "output_type": "execute_result"
    }
   ],
   "source": [
    "df"
   ]
  },
  {
   "cell_type": "code",
   "execution_count": 179,
   "metadata": {},
   "outputs": [
    {
     "data": {
      "text/plain": [
       "<matplotlib.axes._subplots.AxesSubplot at 0x7fb4386ef490>"
      ]
     },
     "execution_count": 179,
     "metadata": {},
     "output_type": "execute_result"
    },
    {
     "data": {
      "image/png": "[encoded data removed]",
      "text/plain": [
       "<Figure size 432x288 with 1 Axes>"
      ]
     },
     "metadata": {
      "needs_background": "light"
     },
     "output_type": "display_data"
    },
    {
     "data": {
      "image/png": "[encoded data removed]",
      "text/plain": [
       "<Figure size 432x288 with 1 Axes>"
      ]
     },
     "metadata": {
      "needs_background": "light"
     },
     "output_type": "display_data"
    }
   ],
   "source": [
    "df.plot(y=['state_dist', 'meas_dist'])\n",
    "df.plot(y=['state_bear', 'pure_state_bear'])\n",
    "\n"
   ]
  },
  {
   "cell_type": "code",
   "execution_count": null,
   "metadata": {},
   "outputs": [],
   "source": []
  }
 ],
 "metadata": {
  "kernelspec": {
   "display_name": "Python 3",
   "language": "python",
   "name": "python3"
  },
  "language_info": {
   "codemirror_mode": {
    "name": "ipython",
    "version": 3
   },
   "file_extension": ".py",
   "mimetype": "text/x-python",
   "name": "python",
   "nbconvert_exporter": "python",
   "pygments_lexer": "ipython3",
   "version": "3.7.6"
  }
 },
 "nbformat": 4,
 "nbformat_minor": 4
}
