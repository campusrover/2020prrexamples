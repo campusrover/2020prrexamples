{
 "cells": [
  {
   "cell_type": "code",
   "execution_count": 1,
   "metadata": {},
   "outputs": [],
   "source": [
    "import csv\n",
    "import numpy as np\n",
    "import pandas as pd\n",
    "import math"
   ]
  },
  {
   "cell_type": "code",
   "execution_count": 33,
   "metadata": {},
   "outputs": [],
   "source": [
    "# d = previous state distance to target\n",
    "# b = previous state bearing to target\n",
    "# d_meas = new measurement of distance to target\n",
    "# b_meas = new measurement of bearing to target\n",
    "\n",
    "def kalman_update(d, b, d_meas, d_bear):\n",
    "    K = 0.7\n",
    "    d_prime = K * d + (1-K) * d_meas\n",
    "    b_prime = K * b + (1-K) * d_bear\n",
    "    return (d_prime, b_prime)"
   ]
  },
  {
   "cell_type": "code",
   "execution_count": 34,
   "metadata": {},
   "outputs": [],
   "source": [
    "# d = previous state distance to target\n",
    "# b = previous state bearing to target\n",
    "# m = amount moved forward\n",
    "\n",
    "def kalman_predict(d, b, m):\n",
    "    d_prime = math.sqrt(m * m + d * d - 2 * m * d * math.cos(b))\n",
    "    b_prime = math.pi - math.asin(d * (math.sin(b)/d_prime))\n",
    "    return d_prime, b_prime"
   ]
  },
  {
   "cell_type": "code",
   "execution_count": 35,
   "metadata": {},
   "outputs": [],
   "source": [
    "# elapsed,g_forward_cmd,g_turn_cmd,g_shortest_bearing,g_shortest\n",
    "df=pd.read_csv('moving.csv', sep=',')"
   ]
  },
  {
   "cell_type": "code",
   "execution_count": null,
   "metadata": {},
   "outputs": [],
   "source": []
  },
  {
   "cell_type": "code",
   "execution_count": 36,
   "metadata": {},
   "outputs": [],
   "source": [
    "state_dist = 1.5\n",
    "state_bear = math.radians(0)\n",
    "for index, row in df.iterrows():\n",
    "    meas_dist = row['g_shortest']\n",
    "    meas_bear = math.radians(row['g_shortest_bearing'])\n",
    "    control_motion = row['g_forward_cmd'] * row['elapsed']\n",
    "    state_dist, state_bear = kalman_predict(state_dist, state_bear, control_motion)\n",
    "    state_dist, state_bear = kalman_update(state_dist, state_bear, meas_dist, meas_bear)\n",
    "    df.loc[df.index[index], 'state_dist'] = state_dist\n",
    "    df.loc[df.index[index], 'state_bear'] = math.degrees(state_bear)\n",
    "    df.loc[df.index[index], 'meas_dist'] = meas_dist\n",
    "    df.loc[df.index[index], 'meas_bear'] = math.degrees(meas_bear)"
   ]
  },
  {
   "cell_type": "code",
   "execution_count": 37,
   "metadata": {},
   "outputs": [
    {
     "data": {
      "text/html": [
       "<div>\n",
       "<style scoped>\n",
       "    .dataframe tbody tr th:only-of-type {\n",
       "        vertical-align: middle;\n",
       "    }\n",
       "\n",
       "    .dataframe tbody tr th {\n",
       "        vertical-align: top;\n",
       "    }\n",
       "\n",
       "    .dataframe thead th {\n",
       "        text-align: right;\n",
       "    }\n",
       "</style>\n",
       "<table border=\"1\" class=\"dataframe\">\n",
       "  <thead>\n",
       "    <tr style=\"text-align: right;\">\n",
       "      <th></th>\n",
       "      <th>elapsed</th>\n",
       "      <th>g_forward_cmd</th>\n",
       "      <th>g_turn_cmd</th>\n",
       "      <th>g_shortest_bearing</th>\n",
       "      <th>g_shortest</th>\n",
       "      <th>state_dist</th>\n",
       "      <th>state_bear</th>\n",
       "      <th>meas_dist</th>\n",
       "      <th>meas_bear</th>\n",
       "    </tr>\n",
       "  </thead>\n",
       "  <tbody>\n",
       "    <tr>\n",
       "      <th>0</th>\n",
       "      <td>0.000</td>\n",
       "      <td>0.00</td>\n",
       "      <td>0.0</td>\n",
       "      <td>258.0</td>\n",
       "      <td>0.672</td>\n",
       "      <td>1.251600</td>\n",
       "      <td>203.400000</td>\n",
       "      <td>0.672</td>\n",
       "      <td>258.0</td>\n",
       "    </tr>\n",
       "    <tr>\n",
       "      <th>1</th>\n",
       "      <td>0.200</td>\n",
       "      <td>0.00</td>\n",
       "      <td>0.0</td>\n",
       "      <td>258.0</td>\n",
       "      <td>0.674</td>\n",
       "      <td>1.078320</td>\n",
       "      <td>219.780000</td>\n",
       "      <td>0.674</td>\n",
       "      <td>258.0</td>\n",
       "    </tr>\n",
       "    <tr>\n",
       "      <th>2</th>\n",
       "      <td>0.200</td>\n",
       "      <td>0.00</td>\n",
       "      <td>0.0</td>\n",
       "      <td>268.0</td>\n",
       "      <td>0.679</td>\n",
       "      <td>0.958524</td>\n",
       "      <td>234.246000</td>\n",
       "      <td>0.679</td>\n",
       "      <td>268.0</td>\n",
       "    </tr>\n",
       "    <tr>\n",
       "      <th>3</th>\n",
       "      <td>0.202</td>\n",
       "      <td>0.00</td>\n",
       "      <td>0.0</td>\n",
       "      <td>257.0</td>\n",
       "      <td>0.677</td>\n",
       "      <td>0.874067</td>\n",
       "      <td>241.072200</td>\n",
       "      <td>0.677</td>\n",
       "      <td>257.0</td>\n",
       "    </tr>\n",
       "    <tr>\n",
       "      <th>4</th>\n",
       "      <td>0.198</td>\n",
       "      <td>0.00</td>\n",
       "      <td>0.0</td>\n",
       "      <td>259.0</td>\n",
       "      <td>0.672</td>\n",
       "      <td>0.813447</td>\n",
       "      <td>246.450540</td>\n",
       "      <td>0.672</td>\n",
       "      <td>259.0</td>\n",
       "    </tr>\n",
       "    <tr>\n",
       "      <th>...</th>\n",
       "      <td>...</td>\n",
       "      <td>...</td>\n",
       "      <td>...</td>\n",
       "      <td>...</td>\n",
       "      <td>...</td>\n",
       "      <td>...</td>\n",
       "      <td>...</td>\n",
       "      <td>...</td>\n",
       "      <td>...</td>\n",
       "    </tr>\n",
       "    <tr>\n",
       "      <th>73</th>\n",
       "      <td>0.202</td>\n",
       "      <td>0.22</td>\n",
       "      <td>0.0</td>\n",
       "      <td>220.0</td>\n",
       "      <td>1.213</td>\n",
       "      <td>1.219273</td>\n",
       "      <td>220.238536</td>\n",
       "      <td>1.213</td>\n",
       "      <td>220.0</td>\n",
       "    </tr>\n",
       "    <tr>\n",
       "      <th>74</th>\n",
       "      <td>0.197</td>\n",
       "      <td>0.22</td>\n",
       "      <td>0.0</td>\n",
       "      <td>218.0</td>\n",
       "      <td>1.257</td>\n",
       "      <td>1.253969</td>\n",
       "      <td>218.670533</td>\n",
       "      <td>1.257</td>\n",
       "      <td>218.0</td>\n",
       "    </tr>\n",
       "    <tr>\n",
       "      <th>75</th>\n",
       "      <td>0.208</td>\n",
       "      <td>0.22</td>\n",
       "      <td>0.0</td>\n",
       "      <td>217.0</td>\n",
       "      <td>1.284</td>\n",
       "      <td>1.288209</td>\n",
       "      <td>217.280340</td>\n",
       "      <td>1.284</td>\n",
       "      <td>217.0</td>\n",
       "    </tr>\n",
       "    <tr>\n",
       "      <th>76</th>\n",
       "      <td>0.192</td>\n",
       "      <td>0.22</td>\n",
       "      <td>0.0</td>\n",
       "      <td>217.0</td>\n",
       "      <td>1.333</td>\n",
       "      <td>1.325346</td>\n",
       "      <td>216.420014</td>\n",
       "      <td>1.333</td>\n",
       "      <td>217.0</td>\n",
       "    </tr>\n",
       "    <tr>\n",
       "      <th>77</th>\n",
       "      <td>0.200</td>\n",
       "      <td>0.22</td>\n",
       "      <td>0.0</td>\n",
       "      <td>215.0</td>\n",
       "      <td>1.359</td>\n",
       "      <td>1.360402</td>\n",
       "      <td>215.224157</td>\n",
       "      <td>1.359</td>\n",
       "      <td>215.0</td>\n",
       "    </tr>\n",
       "  </tbody>\n",
       "</table>\n",
       "<p>78 rows × 9 columns</p>\n",
       "</div>"
      ],
      "text/plain": [
       "    elapsed  g_forward_cmd  g_turn_cmd  g_shortest_bearing  g_shortest  \\\n",
       "0     0.000           0.00         0.0               258.0       0.672   \n",
       "1     0.200           0.00         0.0               258.0       0.674   \n",
       "2     0.200           0.00         0.0               268.0       0.679   \n",
       "3     0.202           0.00         0.0               257.0       0.677   \n",
       "4     0.198           0.00         0.0               259.0       0.672   \n",
       "..      ...            ...         ...                 ...         ...   \n",
       "73    0.202           0.22         0.0               220.0       1.213   \n",
       "74    0.197           0.22         0.0               218.0       1.257   \n",
       "75    0.208           0.22         0.0               217.0       1.284   \n",
       "76    0.192           0.22         0.0               217.0       1.333   \n",
       "77    0.200           0.22         0.0               215.0       1.359   \n",
       "\n",
       "    state_dist  state_bear  meas_dist  meas_bear  \n",
       "0     1.251600  203.400000      0.672      258.0  \n",
       "1     1.078320  219.780000      0.674      258.0  \n",
       "2     0.958524  234.246000      0.679      268.0  \n",
       "3     0.874067  241.072200      0.677      257.0  \n",
       "4     0.813447  246.450540      0.672      259.0  \n",
       "..         ...         ...        ...        ...  \n",
       "73    1.219273  220.238536      1.213      220.0  \n",
       "74    1.253969  218.670533      1.257      218.0  \n",
       "75    1.288209  217.280340      1.284      217.0  \n",
       "76    1.325346  216.420014      1.333      217.0  \n",
       "77    1.360402  215.224157      1.359      215.0  \n",
       "\n",
       "[78 rows x 9 columns]"
      ]
     },
     "execution_count": 37,
     "metadata": {},
     "output_type": "execute_result"
    }
   ],
   "source": [
    "df"
   ]
  },
  {
   "cell_type": "code",
   "execution_count": 38,
   "metadata": {},
   "outputs": [
    {
     "data": {
      "text/plain": [
       "<matplotlib.axes._subplots.AxesSubplot at 0x7fdf04415550>"
      ]
     },
     "execution_count": 38,
     "metadata": {},
     "output_type": "execute_result"
    },
    {
     "data": {
      "image/png": "[encoded data removed]",
      "text/plain": [
       "<Figure size 432x288 with 1 Axes>"
      ]
     },
     "metadata": {
      "needs_background": "light"
     },
     "output_type": "display_data"
    },
    {
     "data": {
      "image/png": "[encoded data removed]",
      "text/plain": [
       "<Figure size 432x288 with 1 Axes>"
      ]
     },
     "metadata": {
      "needs_background": "light"
     },
     "output_type": "display_data"
    }
   ],
   "source": [
    "df.plot(y=['state_dist', 'meas_dist'])\n",
    "df.plot(y=['state_bear', 'meas_bear'])\n",
    "\n"
   ]
  },
  {
   "cell_type": "code",
   "execution_count": null,
   "metadata": {},
   "outputs": [],
   "source": []
  }
 ],
 "metadata": {
  "kernelspec": {
   "display_name": "Python 3",
   "language": "python",
   "name": "python3"
  },
  "language_info": {
   "codemirror_mode": {
    "name": "ipython",
    "version": 3
   },
   "file_extension": ".py",
   "mimetype": "text/x-python",
   "name": "python",
   "nbconvert_exporter": "python",
   "pygments_lexer": "ipython3",
   "version": "3.7.6"
  }
 },
 "nbformat": 4,
 "nbformat_minor": 4
}
