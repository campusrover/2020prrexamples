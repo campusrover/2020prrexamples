{
 "cells": [
  {
   "cell_type": "code",
   "execution_count": null,
   "metadata": {},
   "outputs": [],
   "source": [
    "import csv\n",
    "import numpy as np\n",
    "import pandas as pd\n",
    "import math\n",
    "import seaborn as sb\n",
    "from matplotlib import pyplot as plt\n",
    "import trianglesolver as ts\n",
    "from math import pi"
   ]
  },
  {
   "cell_type": "code",
   "execution_count": null,
   "metadata": {},
   "outputs": [],
   "source": [
    "# d = previous state distance to target\n",
    "# b = previous state bearing to target\n",
    "# d_meas = new measurement of distance to target\n",
    "# b_meas = new measurement of bearing to target\n",
    "\n",
    "def kalman_update(d, b, d_meas, d_bear, K):\n",
    "    d_prime = K * d + (1-K) * d_meas\n",
    "    b_prime = K * b + (1-K) * d_bear\n",
    "    return (d_prime, b_prime)"
   ]
  },
  {
   "cell_type": "code",
   "execution_count": null,
   "metadata": {},
   "outputs": [],
   "source": [
    "def rerange(x):\n",
    "    if (x >math.pi/2):\n",
    "        x = x-math.pi\n",
    "    return x"
   ]
  },
  {
   "cell_type": "code",
   "execution_count": null,
   "metadata": {},
   "outputs": [],
   "source": [
    "# a = previous state distance to target\n",
    "# B = previous state bearing to target\n",
    "# c = amount moved forward\n",
    "# Returns (b = new distance to target, A=new bearing to target)\n",
    "# Note that if no motion, bearing and distance dont change\n",
    "\n",
    "def kalman_predict(a, B, c):\n",
    "    #print(f\"KP {a} {B} {c}\")\n",
    "    if (c == 0):\n",
    "        print(\"c == 0\")\n",
    "        return(a, B)\n",
    "    elif (B == pi):\n",
    "        print(\"B == pi\")\n",
    "        return(a, B)\n",
    "    elif (B > pi):\n",
    "        B_prime = (2*pi - B)\n",
    "        print (f\"B > pi: {B} {B_prime}\")\n",
    "        (tsa,tsb,tsc,tsA,tsB,tsC) = ts.solve(a=a, B=B_prime, c=c)\n",
    "        return (tsb, 2*pi - tsA)\n",
    "    else:\n",
    "        (tsa,tsb,tsc,tsA,tsB,tsC) = ts.solve(a=a, B=B, c=c)\n",
    "        return(tsb, tsA)\n",
    "\n",
    "def another_kalman_predict(a, B, c):\n",
    "    print(f\"KP {a} {B} {c}\")\n",
    "    if (c == 0):\n",
    "        return(a, B)\n",
    "    else:\n",
    "        b = law_of_cosines_b(a, c, B)\n",
    "        A = law_of_sines_A(a,B,b)\n",
    "    return (b, A)\n",
    "\n",
    "def dumb_kalman_predict(d, b, m):\n",
    "    d_prime = d\n",
    "    b_prime = b\n",
    "    return d_prime, b_prime"
   ]
  },
  {
   "cell_type": "code",
   "execution_count": null,
   "metadata": {},
   "outputs": [],
   "source": [
    "# Edges are named after the opposite angle\n",
    "def law_of_sines_A_actual(a, B, b):\n",
    "    \"\"\" returns angle A given sides a,b and angle B\"\"\"\n",
    "    temp = (a * math.sin(B)) / b\n",
    "    if (temp < -1 or temp > 1.0):\n",
    "        print(\"losA error\", temp)\n",
    "    return (math.asin((a * math.sin(B)) / b))\n",
    "\n",
    "def law_of_sines_A(a, B, b):\n",
    "    Btype = 'acute' if B < pi/2 else 'obtuse'\n",
    "    a, b, c, A, B, C = ts.solve(a=a, B=B, b=b, ssa_flag=Btype)\n",
    "    print (A)\n",
    "    return A"
   ]
  },
  {
   "cell_type": "code",
   "execution_count": null,
   "metadata": {},
   "outputs": [],
   "source": [
    "# Capital letter B is an angle. Small a, b and c are edges. \n",
    "# a is the edge across from A (I think that covers it.)\n",
    "def law_of_cosines_B_actual(a, b, c):\n",
    "    \"\"\" returns angle B given sides a,b and c\"\"\"\n",
    "    temp = (b**2 - a**2 - c**2)/(-2.0 * a * c)\n",
    "    if (temp < -1 or temp > 1.0):\n",
    "        print(\"loc error\")\n",
    "    return math.acos((b**2 - a**2 - c**2)/(-2.0 * a * c))\n",
    "\n",
    "def law_of_cosines_B(a, b, c):\n",
    "    a, b, c, A, B, C = ts.solve(a=a, b=b, c=c)\n",
    "    return B"
   ]
  },
  {
   "cell_type": "code",
   "execution_count": null,
   "metadata": {},
   "outputs": [],
   "source": [
    "# Capital letter B is an angle. Small a, b and c are edges. \n",
    "# a is the edge across from A (I think that covers it.)\n",
    "def law_of_cosines_b_actual(a, c, B):\n",
    "    \"\"\" returns side b given sides a,c and angle B\"\"\"\n",
    "    return(math.sqrt(a**2 + c**2 - 2*a*c*math.cos(B)))\n",
    "\n",
    "def law_of_cosines_b(a, c, B):\n",
    "    Btype = 'acute' if B < pi/2 else 'obtuse'\n",
    "    if B==0 or a == 0 or c == 0:\n",
    "        print(a, B, c)\n",
    "    if B >= pi:\n",
    "        print(f\"B {B}\")\n",
    "\n",
    "    a, b, c, A, B, C = ts.solve(a=a, B=B, c=c, ssa_flag=Btype)\n",
    "    return(b)"
   ]
  },
  {
   "cell_type": "code",
   "execution_count": null,
   "metadata": {},
   "outputs": [],
   "source": [
    "# Capital letter A is an angle. Small a, b and c are edges. \n",
    "# a is the edge across from A (I think that covers it.)\n",
    "def law_of_cosines_A_actual(a, b, c):\n",
    "    \"\"\" returns angle A given sides a,b and angle B\"\"\"\n",
    "    return math.acos((-(a*a) + b*b + c*c) / (2 * b * c))"
   ]
  },
  {
   "cell_type": "code",
   "execution_count": null,
   "metadata": {},
   "outputs": [],
   "source": [
    "# elapsed,g_forward_cmd,g_turn_cmd,g_shortest_bearing,g_shortest\n",
    "df=pd.read_csv('motion4.csv', sep=',')"
   ]
  },
  {
   "cell_type": "code",
   "execution_count": null,
   "metadata": {},
   "outputs": [],
   "source": [
    "def test_harnass(K):\n",
    "    state_dist = 0.8\n",
    "    state_bear = math.radians(80)\n",
    "    for index, row in df.iterrows():\n",
    "        meas_dist = row['g_shortest']\n",
    "        meas_bear = math.radians(row['g_shortest_bearing'])\n",
    "        control_motion = row['g_forward_cmd'] * row['elapsed']\n",
    "        temp_state_dist, temp_state_bear = kalman_predict(state_dist, state_bear, control_motion)\n",
    "        pure_state_dist, pure_state_bear = kalman_predict(meas_dist, meas_bear, control_motion)\n",
    "        state_dist, state_bear = kalman_update(temp_state_dist, temp_state_bear, meas_dist, meas_bear, K)\n",
    "        df.loc[df.index[index], 'm'] = control_motion    \n",
    "        df.loc[df.index[index], 'meas_dist'] = meas_dist\n",
    "        df.loc[df.index[index], 'pure_state_dist'] = pure_state_dist    \n",
    "        df.loc[df.index[index], 'temp_state_dist'] = temp_state_dist\n",
    "        df.loc[df.index[index], 'state_dist'] = state_dist\n",
    "        df.loc[df.index[index], 'meas_bear'] = math.degrees(meas_bear)\n",
    "        df.loc[df.index[index], 'pure_state_bear'] = math.degrees(pure_state_bear)\n",
    "        df.loc[df.index[index], 'state_bear'] = math.degrees(state_bear)\n",
    "        df.loc[df.index[index], 'temp_state_bear'] = math.degrees(temp_state_bear)\n",
    "        df.loc[df.index[index], 'K'] = K\n",
    "    return df"
   ]
  },
  {
   "cell_type": "code",
   "execution_count": null,
   "metadata": {
    "scrolled": false
   },
   "outputs": [],
   "source": [
    "df = test_harnass(0.6)\n",
    "df.plot(y=['state_dist', 'meas_dist'], figsize=[14,4])\n",
    "df.plot(y=['state_bear', 'meas_bear'], figsize=[14,4])"
   ]
  },
  {
   "cell_type": "code",
   "execution_count": null,
   "metadata": {},
   "outputs": [],
   "source": [
    "# Test various trig functions\n",
    "from math import pi\n",
    "import trianglesolver as ts\n",
    "ts.solve(a=1, b=1, c=1)\n",
    "\n",
    "df1 = pd.DataFrame(columns = [\"b_index\", \"B\", \"l\", \"d\", \"d_prime\", \"b_prime\"])\n",
    "start = 1\n",
    "end = 360\n",
    "for b_index in range (start, end):\n",
    "    B = math.radians(b_index)\n",
    "    l = 1\n",
    "    d = 1\n",
    "    d_prime, b_prime = kalman_predict(d, B, l)\n",
    "    df1 = df1.append([{\"B\": math.degrees(B), \n",
    "                     \"l\":l,\n",
    "                     \"d\": d, \n",
    "                     \"d_prime\": d_prime, \n",
    "                     \"b_prime\": math.degrees(b_prime), \n",
    "                     \"b_index\": b_index}])\n",
    "df1 = df1.set_index(\"b_index\")    "
   ]
  },
  {
   "cell_type": "code",
   "execution_count": null,
   "metadata": {},
   "outputs": [],
   "source": [
    "df1.plot()"
   ]
  },
  {
   "cell_type": "raw",
   "metadata": {},
   "source": []
  },
  {
   "cell_type": "code",
   "execution_count": null,
   "metadata": {},
   "outputs": [],
   "source": []
  }
 ],
 "metadata": {
  "kernelspec": {
   "display_name": "Python 3",
   "language": "python",
   "name": "python3"
  },
  "language_info": {
   "codemirror_mode": {
    "name": "ipython",
    "version": 3
   },
   "file_extension": ".py",
   "mimetype": "text/x-python",
   "name": "python",
   "nbconvert_exporter": "python",
   "pygments_lexer": "ipython3",
   "version": "3.7.6"
  }
 },
 "nbformat": 4,
 "nbformat_minor": 4
}
