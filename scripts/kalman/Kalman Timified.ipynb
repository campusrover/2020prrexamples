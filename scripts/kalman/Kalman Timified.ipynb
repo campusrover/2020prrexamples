{
 "cells": [
  {
   "cell_type": "code",
   "execution_count": 3,
   "metadata": {},
   "outputs": [
    {
     "name": "stdout",
     "output_type": "stream",
     "text": [
      "X\n"
     ]
    }
   ],
   "source": [
    "import csv\n",
    "import numpy as np\n",
    "import pandas as pd\n",
    "import math\n",
    "import seaborn as sb\n",
    "from matplotlib import pyplot as plt\n",
    "import trianglesolver as ts\n",
    "from math import pi"
   ]
  },
  {
   "cell_type": "code",
   "execution_count": 4,
   "metadata": {},
   "outputs": [],
   "source": [
    "# d = previous state distance to target\n",
    "# b = previous state bearing to target\n",
    "# d_meas = new measurement of distance to target\n",
    "# b_meas = new measurement of bearing to target\n",
    "\n",
    "def kalman_update(d, b, d_meas, d_bear, K):\n",
    "    d_prime = K * d + (1-K) * d_meas\n",
    "    b_prime = K * b + (1-K) * d_bear\n",
    "    return (d_prime, b_prime)"
   ]
  },
  {
   "cell_type": "code",
   "execution_count": null,
   "metadata": {},
   "outputs": [],
   "source": [
    "def rerange(x):\n",
    "    if (x >math.pi/2):\n",
    "        x = x-math.pi\n",
    "    return x"
   ]
  },
  {
   "cell_type": "code",
   "execution_count": 43,
   "metadata": {},
   "outputs": [],
   "source": [
    "# a = previous state distance to target\n",
    "# B = previous state bearing to target\n",
    "# c = amount moved forward\n",
    "# Returns (b = new distance to target, A=new bearing to target)\n",
    "# Note that if no motion, bearing and distance dont change\n",
    "\n",
    "def kalman_predict(a, B, c):\n",
    "    #print(f\"KP {a} {B} {c}\")\n",
    "    if (c == 0):\n",
    "        #print(\"c == 0\")\n",
    "        return(a, B)\n",
    "    elif (B == pi):\n",
    "        print(\"B == pi\")\n",
    "        return(a, B)\n",
    "    elif (B > pi):\n",
    "        B_prime = (2*pi - B)\n",
    "        print (f\"B > pi: {B} {B_prime}\")\n",
    "        (tsa,tsb,tsc,tsA,tsB,tsC) = ts.solve(a=a, B=B_prime, c=c)\n",
    "        return (tsb, 2*pi - tsA)\n",
    "    else:\n",
    "        (tsa,tsb,tsc,tsA,tsB,tsC) = ts.solve(a=a, B=B, c=c)\n",
    "        return(tsb, tsA)\n",
    "    \n",
    "def another_kalman_predict(a, B, c):\n",
    "    print(f\"KP {a} {B} {c}\")\n",
    "    if (c == 0):\n",
    "        return(a, B)\n",
    "    else:\n",
    "        b = law_of_cosines_b(a, c, B)\n",
    "        A = law_of_sines_A(a,B,b)\n",
    "    return (b, A)\n",
    "\n",
    "def dumb_kalman_predict(d, b, m):\n",
    "    d_prime = d\n",
    "    b_prime = b\n",
    "    return d_prime, b_prime"
   ]
  },
  {
   "cell_type": "code",
   "execution_count": 30,
   "metadata": {},
   "outputs": [],
   "source": [
    "# Edges are named after the opposite angle\n",
    "def law_of_sines_A_actual(a, B, b):\n",
    "    \"\"\" returns angle A given sides a,b and angle B\"\"\"\n",
    "    temp = (a * math.sin(B)) / b\n",
    "    if (temp < -1 or temp > 1.0):\n",
    "        print(\"losA error\", temp)\n",
    "    return (math.asin((a * math.sin(B)) / b))\n",
    "\n",
    "def law_of_sines_A(a, B, b):\n",
    "    Btype = 'acute' if B < pi/2 else 'obtuse'\n",
    "    a, b, c, A, B, C = ts.solve(a=a, B=B, b=b, ssa_flag=Btype)\n",
    "    print (A)\n",
    "    return A"
   ]
  },
  {
   "cell_type": "code",
   "execution_count": 31,
   "metadata": {},
   "outputs": [],
   "source": [
    "# Capital letter B is an angle. Small a, b and c are edges. \n",
    "# a is the edge across from A (I think that covers it.)\n",
    "def law_of_cosines_B_actual(a, b, c):\n",
    "    \"\"\" returns angle B given sides a,b and c\"\"\"\n",
    "    temp = (b**2 - a**2 - c**2)/(-2.0 * a * c)\n",
    "    if (temp < -1 or temp > 1.0):\n",
    "        print(\"loc error\")\n",
    "    return math.acos((b**2 - a**2 - c**2)/(-2.0 * a * c))\n",
    "\n",
    "def law_of_cosines_B(a, b, c):\n",
    "    a, b, c, A, B, C = ts.solve(a=a, b=b, c=c)\n",
    "    return B"
   ]
  },
  {
   "cell_type": "code",
   "execution_count": 32,
   "metadata": {},
   "outputs": [],
   "source": [
    "# Capital letter B is an angle. Small a, b and c are edges. \n",
    "# a is the edge across from A (I think that covers it.)\n",
    "def law_of_cosines_b_actual(a, c, B):\n",
    "    \"\"\" returns side b given sides a,c and angle B\"\"\"\n",
    "    return(math.sqrt(a**2 + c**2 - 2*a*c*math.cos(B)))\n",
    "\n",
    "def law_of_cosines_b(a, c, B):\n",
    "    Btype = 'acute' if B < pi/2 else 'obtuse'\n",
    "    if B==0 or a == 0 or c == 0:\n",
    "        print(a, B, c)\n",
    "    if B >= pi:\n",
    "        print(f\"B {B}\")\n",
    "\n",
    "    a, b, c, A, B, C = ts.solve(a=a, B=B, c=c, ssa_flag=Btype)\n",
    "    return(b)"
   ]
  },
  {
   "cell_type": "code",
   "execution_count": 33,
   "metadata": {},
   "outputs": [],
   "source": [
    "# Capital letter A is an angle. Small a, b and c are edges. \n",
    "# a is the edge across from A (I think that covers it.)\n",
    "def law_of_cosines_A_actual(a, b, c):\n",
    "    \"\"\" returns angle A given sides a,b and angle B\"\"\"\n",
    "    return math.acos((-(a*a) + b*b + c*c) / (2 * b * c))"
   ]
  },
  {
   "cell_type": "code",
   "execution_count": 34,
   "metadata": {},
   "outputs": [],
   "source": [
    "# elapsed,g_forward_cmd,g_turn_cmd,g_shortest_bearing,g_shortest\n",
    "df=pd.read_csv('motion4.csv', sep=',')"
   ]
  },
  {
   "cell_type": "code",
   "execution_count": 35,
   "metadata": {},
   "outputs": [],
   "source": [
    "def test_harnass(K):\n",
    "    state_dist = 0.8\n",
    "    state_bear = math.radians(80)\n",
    "    for index, row in df.iterrows():\n",
    "        meas_dist = row['g_shortest']\n",
    "        meas_bear = math.radians(row['g_shortest_bearing'])\n",
    "        control_motion = row['g_forward_cmd'] * row['elapsed']\n",
    "        temp_state_dist, temp_state_bear = kalman_predict(state_dist, state_bear, control_motion)\n",
    "        pure_state_dist, pure_state_bear = kalman_predict(meas_dist, meas_bear, control_motion)\n",
    "        state_dist, state_bear = kalman_update(temp_state_dist, temp_state_bear, meas_dist, meas_bear, K)\n",
    "        df.loc[df.index[index], 'm'] = control_motion    \n",
    "        df.loc[df.index[index], 'meas_dist'] = meas_dist\n",
    "        df.loc[df.index[index], 'pure_state_dist'] = pure_state_dist    \n",
    "        df.loc[df.index[index], 'temp_state_dist'] = temp_state_dist\n",
    "        df.loc[df.index[index], 'state_dist'] = state_dist\n",
    "        df.loc[df.index[index], 'meas_bear'] = math.degrees(meas_bear)\n",
    "        df.loc[df.index[index], 'pure_state_bear'] = math.degrees(pure_state_bear)\n",
    "        df.loc[df.index[index], 'state_bear'] = math.degrees(state_bear)\n",
    "        df.loc[df.index[index], 'temp_state_bear'] = math.degrees(temp_state_bear)\n",
    "        df.loc[df.index[index], 'K'] = K\n",
    "    return df"
   ]
  },
  {
   "cell_type": "code",
   "execution_count": 36,
   "metadata": {
    "scrolled": false
   },
   "outputs": [
    {
     "data": {
      "text/plain": [
       "<matplotlib.axes._subplots.AxesSubplot at 0x7fcd4e79a1d0>"
      ]
     },
     "execution_count": 36,
     "metadata": {},
     "output_type": "execute_result"
    },
    {
     "data": {
      "image/png": "[encoded data removed]",
      "text/plain": [
       "<Figure size 1008x288 with 1 Axes>"
      ]
     },
     "metadata": {
      "needs_background": "light"
     },
     "output_type": "display_data"
    },
    {
     "data": {
      "image/png": "[encoded data removed]",
      "text/plain": [
       "<Figure size 1008x288 with 1 Axes>"
      ]
     },
     "metadata": {
      "needs_background": "light"
     },
     "output_type": "display_data"
    }
   ],
   "source": [
    "df = test_harnass(1.0)\n",
    "df.plot(y=['state_dist', 'meas_dist'], figsize=[14,4])\n",
    "df.plot(y=['state_bear', 'meas_bear'], figsize=[14,4])"
   ]
  },
  {
   "cell_type": "code",
   "execution_count": 44,
   "metadata": {},
   "outputs": [
    {
     "name": "stdout",
     "output_type": "stream",
     "text": [
      "B == pi\n",
      "B > pi: 3.1590459461097367 3.1241393610698496\n",
      "B > pi: 3.1764992386296798 3.1066860685499065\n",
      "B > pi: 3.193952531149623 3.0892327760299634\n",
      "B > pi: 3.2114058236695664 3.07177948351002\n",
      "B > pi: 3.2288591161895095 3.0543261909900767\n",
      "B > pi: 3.246312408709453 3.036872898470133\n",
      "B > pi: 3.263765701229396 3.01941960595019\n",
      "B > pi: 3.2812189937493397 3.0019663134302466\n",
      "B > pi: 3.2986722862692828 2.9845130209103035\n",
      "B > pi: 3.3161255787892263 2.96705972839036\n",
      "B > pi: 3.3335788713091694 2.949606435870417\n",
      "B > pi: 3.351032163829113 2.9321531433504733\n",
      "B > pi: 3.368485456349056 2.91469985083053\n",
      "B > pi: 3.385938748868999 2.897246558310587\n",
      "B > pi: 3.4033920413889427 2.8797932657906435\n",
      "B > pi: 3.420845333908886 2.8623399732707004\n",
      "B > pi: 3.4382986264288293 2.844886680750757\n",
      "B > pi: 3.4557519189487724 2.827433388230814\n",
      "B > pi: 3.473205211468716 2.8099800957108703\n",
      "B > pi: 3.490658503988659 2.792526803190927\n",
      "B > pi: 3.5081117965086026 2.7750735106709836\n",
      "B > pi: 3.5255650890285457 2.7576202181510405\n",
      "B > pi: 3.543018381548489 2.7401669256310974\n",
      "B > pi: 3.5604716740684323 2.722713633111154\n",
      "B > pi: 3.5779249665883754 2.705260340591211\n",
      "B > pi: 3.595378259108319 2.6878070480712672\n",
      "B > pi: 3.612831551628262 2.670353755551324\n",
      "B > pi: 3.6302848441482056 2.6529004630313806\n",
      "B > pi: 3.6477381366681487 2.6354471705114375\n",
      "B > pi: 3.6651914291880923 2.617993877991494\n",
      "B > pi: 3.6826447217080354 2.600540585471551\n",
      "B > pi: 3.7000980142279785 2.5830872929516078\n",
      "B > pi: 3.717551306747922 2.5656340004316642\n",
      "B > pi: 3.735004599267865 2.548180707911721\n",
      "B > pi: 3.7524578917878086 2.5307274153917776\n",
      "B > pi: 3.7699111843077517 2.5132741228718345\n",
      "B > pi: 3.7873644768276953 2.495820830351891\n",
      "B > pi: 3.8048177693476384 2.478367537831948\n",
      "B > pi: 3.822271061867582 2.4609142453120043\n",
      "B > pi: 3.839724354387525 2.443460952792061\n",
      "B > pi: 3.857177646907468 2.426007660272118\n",
      "B > pi: 3.8746309394274117 2.4085543677521746\n",
      "B > pi: 3.8920842319473548 2.3911010752322315\n",
      "B > pi: 3.9095375244672983 2.373647782712288\n",
      "B > pi: 3.9269908169872414 2.356194490192345\n",
      "B > pi: 3.944444109507185 2.3387411976724013\n",
      "B > pi: 3.961897402027128 2.321287905152458\n",
      "B > pi: 3.9793506945470716 2.3038346126325147\n",
      "B > pi: 3.9968039870670147 2.2863813201125716\n",
      "B > pi: 4.014257279586958 2.2689280275926285\n",
      "B > pi: 4.031710572106901 2.2514747350726854\n",
      "B > pi: 4.049163864626845 2.2340214425527414\n",
      "B > pi: 4.066617157146788 2.2165681500327983\n",
      "B > pi: 4.084070449666731 2.199114857512855\n",
      "B > pi: 4.101523742186674 2.181661564992912\n",
      "B > pi: 4.118977034706618 2.164208272472968\n",
      "B > pi: 4.136430327226561 2.146754979953025\n",
      "B > pi: 4.153883619746504 2.129301687433082\n",
      "B > pi: 4.171336912266447 2.111848394913139\n",
      "B > pi: 4.1887902047863905 2.0943951023931957\n",
      "B > pi: 4.2062434973063345 2.0769418098732517\n",
      "B > pi: 4.223696789826278 2.0594885173533086\n",
      "B > pi: 4.241150082346221 2.0420352248333655\n",
      "B > pi: 4.258603374866164 2.0245819323134224\n",
      "B > pi: 4.276056667386108 2.0071286397934784\n",
      "B > pi: 4.293509959906051 1.9896753472735353\n",
      "B > pi: 4.310963252425994 1.9722220547535922\n",
      "B > pi: 4.328416544945937 1.9547687622336491\n",
      "B > pi: 4.34586983746588 1.937315469713706\n",
      "B > pi: 4.363323129985824 1.919862177193762\n",
      "B > pi: 4.380776422505767 1.902408884673819\n",
      "B > pi: 4.39822971502571 1.8849555921538759\n",
      "B > pi: 4.4156830075456535 1.8675022996339328\n",
      "B > pi: 4.4331363000655974 1.8500490071139888\n",
      "B > pi: 4.4505895925855405 1.8325957145940457\n",
      "B > pi: 4.468042885105484 1.8151424220741026\n",
      "B > pi: 4.485496177625427 1.7976891295541595\n",
      "B > pi: 4.50294947014537 1.7802358370342164\n",
      "B > pi: 4.520402762665314 1.7627825445142724\n",
      "B > pi: 4.537856055185257 1.7453292519943293\n",
      "B > pi: 4.5553093477052 1.7278759594743862\n",
      "B > pi: 4.572762640225143 1.7104226669544431\n",
      "B > pi: 4.590215932745087 1.6929693744344991\n",
      "B > pi: 4.60766922526503 1.675516081914556\n",
      "B > pi: 4.625122517784973 1.658062789394613\n",
      "B > pi: 4.642575810304916 1.6406094968746698\n",
      "B > pi: 4.6600291028248595 1.6231562043547267\n",
      "B > pi: 4.6774823953448035 1.6057029118347828\n",
      "B > pi: 4.694935687864747 1.5882496193148397\n",
      "B > pi: 4.71238898038469 1.5707963267948966\n",
      "B > pi: 4.729842272904633 1.5533430342749535\n",
      "B > pi: 4.747295565424577 1.5358897417550095\n",
      "B > pi: 4.76474885794452 1.5184364492350664\n",
      "B > pi: 4.782202150464463 1.5009831567151233\n",
      "B > pi: 4.799655442984406 1.4835298641951802\n",
      "B > pi: 4.817108735504349 1.466076571675237\n",
      "B > pi: 4.834562028024293 1.448623279155293\n",
      "B > pi: 4.852015320544236 1.43116998663535\n",
      "B > pi: 4.869468613064179 1.413716694115407\n",
      "B > pi: 4.886921905584122 1.3962634015954638\n",
      "B > pi: 4.904375198104066 1.3788101090755198\n",
      "B > pi: 4.9218284906240095 1.3613568165555767\n",
      "B > pi: 4.939281783143953 1.3439035240356336\n",
      "B > pi: 4.956735075663896 1.3264502315156905\n",
      "B > pi: 4.974188368183839 1.3089969389957474\n",
      "B > pi: 4.991641660703783 1.2915436464758034\n",
      "B > pi: 5.009094953223726 1.2740903539558603\n",
      "B > pi: 5.026548245743669 1.2566370614359172\n",
      "B > pi: 5.044001538263612 1.2391837689159741\n",
      "B > pi: 5.061454830783556 1.2217304763960302\n",
      "B > pi: 5.078908123303499 1.204277183876087\n",
      "B > pi: 5.096361415823442 1.186823891356144\n",
      "B > pi: 5.113814708343385 1.1693705988362009\n",
      "B > pi: 5.1312680008633285 1.1519173063162578\n",
      "B > pi: 5.1487212933832724 1.1344640137963138\n",
      "B > pi: 5.1661745859032155 1.1170107212763707\n",
      "B > pi: 5.183627878423159 1.0995574287564276\n",
      "B > pi: 5.201081170943102 1.0821041362364845\n",
      "B > pi: 5.218534463463046 1.0646508437165405\n",
      "B > pi: 5.235987755982989 1.0471975511965974\n",
      "B > pi: 5.253441048502932 1.0297442586766543\n",
      "B > pi: 5.270894341022875 1.0122909661567112\n",
      "B > pi: 5.288347633542818 0.9948376736367681\n",
      "B > pi: 5.305800926062762 0.9773843811168241\n",
      "B > pi: 5.323254218582705 0.959931088596881\n",
      "B > pi: 5.340707511102648 0.9424777960769379\n",
      "B > pi: 5.358160803622591 0.9250245035569948\n",
      "B > pi: 5.375614096142535 0.9075712110370509\n",
      "B > pi: 5.3930673886624785 0.8901179185171078\n",
      "B > pi: 5.410520681182422 0.8726646259971647\n",
      "B > pi: 5.427973973702365 0.8552113334772216\n",
      "B > pi: 5.445427266222308 0.8377580409572785\n",
      "B > pi: 5.462880558742252 0.8203047484373345\n",
      "B > pi: 5.480333851262195 0.8028514559173914\n",
      "B > pi: 5.497787143782138 0.7853981633974483\n",
      "B > pi: 5.515240436302081 0.7679448708775052\n",
      "B > pi: 5.532693728822025 0.7504915783575612\n",
      "B > pi: 5.550147021341968 0.7330382858376181\n",
      "B > pi: 5.567600313861911 0.715584993317675\n",
      "B > pi: 5.585053606381854 0.6981317007977319\n",
      "B > pi: 5.602506898901797 0.6806784082777888\n",
      "B > pi: 5.619960191421741 0.6632251157578448\n",
      "B > pi: 5.6374134839416845 0.6457718232379017\n",
      "B > pi: 5.654866776461628 0.6283185307179586\n",
      "B > pi: 5.672320068981571 0.6108652381980155\n",
      "B > pi: 5.689773361501515 0.5934119456780715\n",
      "B > pi: 5.707226654021458 0.5759586531581284\n",
      "B > pi: 5.724679946541401 0.5585053606381853\n",
      "B > pi: 5.742133239061344 0.5410520681182422\n",
      "B > pi: 5.759586531581287 0.5235987755982991\n",
      "B > pi: 5.777039824101231 0.5061454830783552\n",
      "B > pi: 5.794493116621174 0.48869219055841207\n",
      "B > pi: 5.811946409141117 0.47123889803846897\n",
      "B > pi: 5.82939970166106 0.45378560551852587\n",
      "B > pi: 5.846852994181004 0.4363323129985819\n",
      "B > pi: 5.8643062867009474 0.4188790204786388\n",
      "B > pi: 5.8817595792208905 0.4014257279586957\n",
      "B > pi: 5.899212871740834 0.3839724354387526\n",
      "B > pi: 5.916666164260777 0.3665191429188095\n",
      "B > pi: 5.934119456780721 0.3490658503988655\n",
      "B > pi: 5.951572749300664 0.3316125578789224\n",
      "B > pi: 5.969026041820607 0.3141592653589793\n",
      "B > pi: 5.98647933434055 0.2967059728390362\n",
      "B > pi: 6.003932626860494 0.27925268031909223\n",
      "B > pi: 6.021385919380437 0.26179938779914913\n",
      "B > pi: 6.03883921190038 0.24434609527920603\n",
      "B > pi: 6.056292504420323 0.22689280275926293\n",
      "B > pi: 6.073745796940266 0.20943951023931984\n",
      "B > pi: 6.09119908946021 0.19198621771937585\n",
      "B > pi: 6.1086523819801535 0.17453292519943275\n",
      "B > pi: 6.126105674500097 0.15707963267948966\n",
      "B > pi: 6.14355896702004 0.13962634015954656\n",
      "B > pi: 6.161012259539984 0.12217304763960257\n",
      "B > pi: 6.178465552059927 0.10471975511965947\n",
      "B > pi: 6.19591884457987 0.08726646259971638\n",
      "B > pi: 6.213372137099813 0.06981317007977328\n",
      "B > pi: 6.230825429619756 0.05235987755983018\n",
      "B > pi: 6.2482787221397 0.034906585039886195\n",
      "B > pi: 6.265732014659643 0.017453292519943098\n"
     ]
    }
   ],
   "source": [
    "# Test various trig functions\n",
    "from math import pi\n",
    "import trianglesolver as ts\n",
    "ts.solve(a=1, b=1, c=1)\n",
    "\n",
    "df1 = pd.DataFrame(columns = [\"b_index\", \"B\", \"l\", \"d\", \"d_prime\", \"b_prime\"])\n",
    "start = 1\n",
    "end = 360\n",
    "for b_index in range (start, end):\n",
    "    B = math.radians(b_index)\n",
    "    l = 1\n",
    "    d = 1\n",
    "    d_prime, b_prime = kalman_predict(d, B, l)\n",
    "    df1 = df1.append([{\"B\": math.degrees(B), \n",
    "                     \"l\":l,\n",
    "                     \"d\": d, \n",
    "                     \"d_prime\": d_prime, \n",
    "                     \"b_prime\": math.degrees(b_prime), \n",
    "                     \"b_index\": b_index}])\n",
    "df1 = df1.set_index(\"b_index\")    "
   ]
  },
  {
   "cell_type": "code",
   "execution_count": 45,
   "metadata": {},
   "outputs": [
    {
     "data": {
      "text/plain": [
       "<matplotlib.axes._subplots.AxesSubplot at 0x7fcd4e71e110>"
      ]
     },
     "execution_count": 45,
     "metadata": {},
     "output_type": "execute_result"
    },
    {
     "data": {
      "image/png": "[encoded data removed]",
      "text/plain": [
       "<Figure size 432x288 with 1 Axes>"
      ]
     },
     "metadata": {
      "needs_background": "light"
     },
     "output_type": "display_data"
    }
   ],
   "source": [
    "df1.plot()"
   ]
  },
  {
   "cell_type": "raw",
   "metadata": {},
   "source": []
  },
  {
   "cell_type": "code",
   "execution_count": null,
   "metadata": {},
   "outputs": [],
   "source": []
  }
 ],
 "metadata": {
  "kernelspec": {
   "display_name": "Python 3",
   "language": "python",
   "name": "python3"
  },
  "language_info": {
   "codemirror_mode": {
    "name": "ipython",
    "version": 3
   },
   "file_extension": ".py",
   "mimetype": "text/x-python",
   "name": "python",
   "nbconvert_exporter": "python",
   "pygments_lexer": "ipython3",
   "version": "3.7.6"
  }
 },
 "nbformat": 4,
 "nbformat_minor": 4
}
