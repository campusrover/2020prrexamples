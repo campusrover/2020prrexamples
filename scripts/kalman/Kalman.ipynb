{
 "cells": [
  {
   "cell_type": "code",
   "execution_count": null,
   "metadata": {},
   "outputs": [],
   "source": [
    "import csv\n",
    "import numpy as np\n",
    "import pandas as pd\n",
    "import math"
   ]
  },
  {
   "cell_type": "code",
   "execution_count": null,
   "metadata": {},
   "outputs": [],
   "source": [
    "def kalman_update(index, elapsed, m_dist, e_dist, m_bear, e_bear):\n",
    "    K = 0.5\n",
    "    e_dist = K*e_dist + (1-K)*m_dist\n",
    "    e_bear = K*e_bear + (1-K)*m_bear\n",
    "    return (e_dist, e_bear)"
   ]
  },
  {
   "cell_type": "code",
   "execution_count": null,
   "metadata": {},
   "outputs": [],
   "source": [
    "def kalman_control(elapsed, fwd_cmd, e_dist, m_bear):\n",
    "    b = math.radians(m_bear)\n",
    "    m = elapsed * fwd_cmd\n",
    "    d = e_dist\n",
    "    d_prime = math.sqrt(m * m + d * d - 2 * m * d * math.cos(b))\n",
    "    b_prime = math.pi - math.asin(d * (math.sin(b)/d_prime))\n",
    "    return d_prime, b_prime"
   ]
  },
  {
   "cell_type": "code",
   "execution_count": null,
   "metadata": {},
   "outputs": [],
   "source": [
    "# elapsed,g_forward_cmd,g_turn_cmd,g_shortest_bearing,g_shortest\n",
    "df=pd.read_csv('moving.csv', sep=',')\n"
   ]
  },
  {
   "cell_type": "code",
   "execution_count": null,
   "metadata": {},
   "outputs": [],
   "source": []
  },
  {
   "cell_type": "code",
   "execution_count": null,
   "metadata": {},
   "outputs": [],
   "source": [
    "est_dist = 1.5\n",
    "est_bear = 0\n",
    "for index, row in df.iterrows():\n",
    "    elapsed = row['elapsed']\n",
    "    meas_dist = row['g_shortest']\n",
    "    meas_bear = row['g_shortest_bearing']\n",
    "    fwd_cmd = row['g_forward_cmd']\n",
    "    turn_cmd = row['g_turn_cmd']\n",
    "    est_dist, est_bear = kalman_update(index+1, elapsed, meas_dist, est_dist)\n",
    "    d_prime, b_prime = kalman_control(elapsed, fwd_cmd, meas_dist, meas_bear)\n",
    "    df.loc[df.index[index], 'new_dist'] = est_dist\n",
    "    df.loc[df.index[index], 'new_bear'] = est_bear\n",
    "    df.loc[df.index[index], 'd_prime'] = d_prime\n",
    "    df.loc[df.index[index], 'b_prime'] = math.degrees(b_prime)"
   ]
  },
  {
   "cell_type": "code",
   "execution_count": null,
   "metadata": {},
   "outputs": [],
   "source": [
    "df"
   ]
  },
  {
   "cell_type": "code",
   "execution_count": null,
   "metadata": {},
   "outputs": [],
   "source": [
    "math.degrees(3.72)"
   ]
  },
  {
   "cell_type": "code",
   "execution_count": null,
   "metadata": {},
   "outputs": [],
   "source": []
  }
 ],
 "metadata": {
  "kernelspec": {
   "display_name": "Python 3",
   "language": "python",
   "name": "python3"
  },
  "language_info": {
   "codemirror_mode": {
    "name": "ipython",
    "version": 3
   },
   "file_extension": ".py",
   "mimetype": "text/x-python",
   "name": "python",
   "nbconvert_exporter": "python",
   "pygments_lexer": "ipython3",
   "version": "3.7.6"
  }
 },
 "nbformat": 4,
 "nbformat_minor": 4
}
