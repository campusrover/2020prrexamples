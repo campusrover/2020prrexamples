{
 "cells": [
  {
   "cell_type": "code",
   "execution_count": 3,
   "metadata": {},
   "outputs": [],
   "source": [
    "import py_trees\n",
    "import random\n",
    "import time\n",
    "from py_trees import Blackboard\n",
    "import bt_utils"
   ]
  },
  {
   "cell_type": "code",
   "execution_count": 4,
   "metadata": {},
   "outputs": [],
   "source": [
    "class TurnTowardsWall(bt_utils.BaseBehavior):\n",
    "    def update(self):\n",
    "        bb = Blackboard()\n",
    "        if bb.angle == 0:\n",
    "            self.log(\"Now pointing to wall\")\n",
    "            bb.facing = True\n",
    "            return (py_trees.Status.SUCCESS)\n",
    "        else:\n",
    "            bb.angle -= 10\n",
    "            self.log(\"Turning towards wall\",bb.angle)\n",
    "            return(py_trees.Status.RUNNING)"
   ]
  },
  {
   "cell_type": "code",
   "execution_count": 5,
   "metadata": {},
   "outputs": [],
   "source": [
    "class DriveToWall(bt_utils.BaseBehavior):\n",
    "    def update(self):\n",
    "        bb = Blackboard()\n",
    "        if not bb.facing:\n",
    "            return py_trees.Status.FAILURE\n",
    "        if bb.distance > 5:\n",
    "            self.log(\"Not near wall yet\")\n",
    "            return py_trees.Status.RUNNING\n",
    "        else:\n",
    "            self.log(\"near wall\")\n",
    "            return py_trees.Status.SUCCESS"
   ]
  },
  {
   "cell_type": "code",
   "execution_count": 6,
   "metadata": {},
   "outputs": [],
   "source": [
    "class TooClose(bt_utils.BaseBehavior):\n",
    "    def update(self):\n",
    "        bb = Blackboard()\n",
    "        if bb.distance < 5:\n",
    "            self.log(\"Too Close to wall!\")\n",
    "            return py_trees.Status.FAILURE\n",
    "        else:\n",
    "            self.log(\"Now at a safe distance, not to worry\")\n",
    "            return py_trees.Status.SUCCESS"
   ]
  },
  {
   "cell_type": "code",
   "execution_count": 7,
   "metadata": {},
   "outputs": [],
   "source": [
    "class MoveAwayFromWall(bt_utils.BaseBehavior):\n",
    "    def update(self):\n",
    "        bb = Blackboard()\n",
    "        if bb.distance < 10:\n",
    "            self.log(\"Emergency pulling away\")\n",
    "            bb.distance += 1\n",
    "            return py_trees.Status.RUNNING\n",
    "        else:\n",
    "            self.log(\"Enough distance. Emergency over\")\n",
    "            return py_trees.Status.SUCCESS"
   ]
  },
  {
   "cell_type": "code",
   "execution_count": 12,
   "metadata": {},
   "outputs": [],
   "source": [
    "def create_tree():\n",
    "    bb = Blackboard()\n",
    "    bb.facing = False\n",
    "    bb.distance = 2\n",
    "    bb.angle = 30\n",
    "    range_safety = py_trees.composites.Selector(\"rangsaf\")\n",
    "    range_safety.add_child(TooClose(\"tooclose\"))\n",
    "    range_safety.add_child(MoveAwayFromWall(\"awaywall\"))\n",
    "    seq = py_trees.composites.Sequence(name=\"orient\")\n",
    "    seq.add_child(range_safety)\n",
    "    seq.add_child(TurnTowardsWall(\"turntowall\"))\n",
    "    seq.add_child(DriveToWall(\"drivetowall\"))\n",
    "    return seq"
   ]
  },
  {
   "cell_type": "code",
   "execution_count": 13,
   "metadata": {
    "scrolled": false
   },
   "outputs": [
    {
     "name": "stdout",
     "output_type": "stream",
     "text": [
      "tooclose:  __init__\n",
      "awaywall:  __init__\n",
      "turntowall:  __init__\n",
      "drivetowall:  __init__\n",
      "tooclose:  setup\n",
      "awaywall:  setup\n",
      "turntowall:  setup\n",
      "drivetowall:  setup\n",
      "--------- Tick 1 ---------\n",
      "tooclose:  Too Close to wall!\n",
      "awaywall:  Emergency pulling away\n",
      "orient [*]\n",
      "(-) rangsaf [*]\n",
      "    --> tooclose [✕]\n",
      "    --> awaywall [*]\n",
      "--> turntowall [-]\n",
      "--> drivetowall [-]\n",
      "(30, 3, False)\n",
      "--------- Tick 2 ---------\n",
      "tooclose:  Too Close to wall!\n",
      "awaywall:  Emergency pulling away\n",
      "orient [*]\n",
      "(-) rangsaf [*]\n",
      "    --> tooclose [✕]\n",
      "    --> awaywall [*]\n",
      "--> turntowall [-]\n",
      "--> drivetowall [-]\n",
      "(30, 4, False)\n",
      "--------- Tick 3 ---------\n",
      "tooclose:  Too Close to wall!\n",
      "awaywall:  Emergency pulling away\n",
      "orient [*]\n",
      "(-) rangsaf [*]\n",
      "    --> tooclose [✕]\n",
      "    --> awaywall [*]\n",
      "--> turntowall [-]\n",
      "--> drivetowall [-]\n",
      "(30, 5, False)\n",
      "--------- Tick 4 ---------\n",
      "tooclose:  Now at a safe distance, not to worry\n",
      "turntowall: Turning towards wall 20\n",
      "orient [*]\n",
      "(-) rangsaf [✓]\n",
      "    --> tooclose [✓]\n",
      "    --> awaywall [-]\n",
      "--> turntowall [*]\n",
      "--> drivetowall [-]\n",
      "(20, 5, False)\n",
      "--------- Tick 5 ---------\n",
      "turntowall: Turning towards wall 10\n",
      "orient [*]\n",
      "(-) rangsaf [✓]\n",
      "    --> tooclose [✓]\n",
      "    --> awaywall [-]\n",
      "--> turntowall [*]\n",
      "--> drivetowall [-]\n",
      "(10, 5, False)\n",
      "--------- Tick 6 ---------\n",
      "turntowall: Turning towards wall 0\n",
      "orient [*]\n",
      "(-) rangsaf [✓]\n",
      "    --> tooclose [✓]\n",
      "    --> awaywall [-]\n",
      "--> turntowall [*]\n",
      "--> drivetowall [-]\n",
      "(0, 5, False)\n",
      "--------- Tick 7 ---------\n",
      "turntowall:  Now pointing to wall\n",
      "drivetowall:  near wall\n",
      "orient [✓]\n",
      "(-) rangsaf [✓]\n",
      "    --> tooclose [✓]\n",
      "    --> awaywall [-]\n",
      "--> turntowall [✓]\n",
      "--> drivetowall [✓]\n",
      "(0, 5, True)\n"
     ]
    }
   ],
   "source": [
    "tree = create_tree()\n",
    "tree.setup(timeout=15)\n",
    "bb = Blackboard()\n",
    "bb.counter = 1\n",
    "while tree.status != py_trees.Status.SUCCESS:\n",
    "    try:\n",
    "        print(\"--------- Tick {0} ---------\".format(bb.counter))\n",
    "        tree.tick_once()\n",
    "        py_trees.display.print_ascii_tree(tree, show_status=True)\n",
    "        time.sleep(1.0)\n",
    "        bb.counter += 1\n",
    "        print(bb.angle, bb.distance, bb.facing)\n",
    "    except KeyboardInterrupt:\n",
    "        break\n"
   ]
  },
  {
   "cell_type": "code",
   "execution_count": null,
   "metadata": {},
   "outputs": [],
   "source": []
  },
  {
   "cell_type": "code",
   "execution_count": null,
   "metadata": {},
   "outputs": [],
   "source": []
  }
 ],
 "metadata": {
  "kernelspec": {
   "display_name": "Python 2",
   "language": "python",
   "name": "python2"
  },
  "language_info": {
   "codemirror_mode": {
    "name": "ipython",
    "version": 2
   },
   "file_extension": ".py",
   "mimetype": "text/x-python",
   "name": "python",
   "nbconvert_exporter": "python",
   "pygments_lexer": "ipython2",
   "version": "2.7.15"
  }
 },
 "nbformat": 4,
 "nbformat_minor": 2
}
