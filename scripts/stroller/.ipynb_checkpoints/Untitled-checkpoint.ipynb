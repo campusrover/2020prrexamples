{
 "cells": [
  {
   "cell_type": "code",
   "execution_count": 37,
   "metadata": {},
   "outputs": [],
   "source": [
    "import numpy as np"
   ]
  },
  {
   "cell_type": "code",
   "execution_count": 45,
   "metadata": {},
   "outputs": [],
   "source": [
    "\n",
    "def filter(a, i):\n",
    "    \"\"\"Given an array a and an index i, replace each entry in the array with the average\n",
    "    of three adjacent cells, while filtering out values that are less than 0.05 or np.inf\"\"\"\n",
    "    x = np.take(a, [i, i-1, i+1], mode='wrap')\n",
    "    y = np.logical_and(x>0.05, x!=np.inf)\n",
    "    slice = x[y]\n",
    "    if slice.size == 0:\n",
    "        return 20\n",
    "    else:\n",
    "        return np.average(x[y])\n",
    "\n"
   ]
  },
  {
   "cell_type": "code",
   "execution_count": 51,
   "metadata": {},
   "outputs": [],
   "source": [
    "ap1 = np.array([1.21, 1.22, 1.23, 1.211, 1.212, 1.20, 1.20])\n",
    "ap2 = np.array([1.1, 1.1, 1.1, 1.1, 1.2, 1.2, 1.2])"
   ]
  },
  {
   "cell_type": "code",
   "execution_count": 65,
   "metadata": {},
   "outputs": [],
   "source": [
    "def play(ar):\n",
    "    filter_and_average = [filter(ar,x) for x in range(0, ar.size)]\n",
    "    print filter_and_average\n",
    "    near_bear = np.argmin(np.around(filter_and_average, decimals=2))\n",
    "    near_dist = filter_and_average[near_bear]\n",
    "    print(near_bear, near_dist)"
   ]
  },
  {
   "cell_type": "code",
   "execution_count": 66,
   "metadata": {},
   "outputs": [
    {
     "name": "stdout",
     "output_type": "stream",
     "text": [
      "[1.1666666666666667, 1.2, 1.1666666666666667, 1.1333333333333333, 1.1, 1.1, 1.1333333333333335]\n",
      "(0, 1.1666666666666667)\n"
     ]
    }
   ],
   "source": [
    "play(ap1)"
   ]
  },
  {
   "cell_type": "code",
   "execution_count": 67,
   "metadata": {},
   "outputs": [
    {
     "name": "stdout",
     "output_type": "stream",
     "text": [
      "[1.1333333333333333, 1.1, 1.1, 1.1333333333333335, 1.1666666666666667, 1.2, 1.1666666666666667]\n",
      "(0, 1.1333333333333333)\n"
     ]
    }
   ],
   "source": [
    "play(ap2)"
   ]
  },
  {
   "cell_type": "code",
   "execution_count": null,
   "metadata": {},
   "outputs": [],
   "source": []
  }
 ],
 "metadata": {
  "kernelspec": {
   "display_name": "Python 2",
   "language": "python",
   "name": "python2"
  },
  "language_info": {
   "codemirror_mode": {
    "name": "ipython",
    "version": 2
   },
   "file_extension": ".py",
   "mimetype": "text/x-python",
   "name": "python",
   "nbconvert_exporter": "python",
   "pygments_lexer": "ipython2",
   "version": "2.7.15"
  }
 },
 "nbformat": 4,
 "nbformat_minor": 2
}
